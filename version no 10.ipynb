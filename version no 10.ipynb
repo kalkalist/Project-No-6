{
 "cells": [
  {
   "cell_type": "markdown",
   "id": "c05bb8d4",
   "metadata": {},
   "source": [
    "# Project 6. Choosing a car profitably"
   ]
  },
  {
   "cell_type": "code",
   "execution_count": null,
   "id": "71d395fa",
   "metadata": {},
   "outputs": [],
   "source": [
    "import numpy as np\n",
    "import pandas as pd \n",
    "import sys\n",
    "from sklearn.model_selection import train_test_split\n",
    "from sklearn.model_selection import KFold\n",
    "from tqdm.notebook import tqdm\n",
    "from catboost import CatBoostRegressor\n",
    "from sklearn.preprocessing import LabelEncoder"
   ]
  },
  {
   "cell_type": "markdown",
   "id": "615e214a",
   "metadata": {},
   "source": [
    "# The main Data"
   ]
  },
  {
   "cell_type": "code",
   "execution_count": 937,
   "id": "fb00f9c3",
   "metadata": {},
   "outputs": [
    {
     "data": {
      "text/html": [
       "<div>\n",
       "<style scoped>\n",
       "    .dataframe tbody tr th:only-of-type {\n",
       "        vertical-align: middle;\n",
       "    }\n",
       "\n",
       "    .dataframe tbody tr th {\n",
       "        vertical-align: top;\n",
       "    }\n",
       "\n",
       "    .dataframe thead th {\n",
       "        text-align: right;\n",
       "    }\n",
       "</style>\n",
       "<table border=\"1\" class=\"dataframe\">\n",
       "  <thead>\n",
       "    <tr style=\"text-align: right;\">\n",
       "      <th></th>\n",
       "      <th>bodyType</th>\n",
       "      <th>brand</th>\n",
       "      <th>car_url</th>\n",
       "      <th>color</th>\n",
       "      <th>complectation_dict</th>\n",
       "      <th>description</th>\n",
       "      <th>engineDisplacement</th>\n",
       "      <th>enginePower</th>\n",
       "      <th>equipment_dict</th>\n",
       "      <th>fuelType</th>\n",
       "      <th>...</th>\n",
       "      <th>vehicleConfiguration</th>\n",
       "      <th>vehicleTransmission</th>\n",
       "      <th>vendor</th>\n",
       "      <th>Владельцы</th>\n",
       "      <th>Владение</th>\n",
       "      <th>ПТС</th>\n",
       "      <th>Привод</th>\n",
       "      <th>Руль</th>\n",
       "      <th>Состояние</th>\n",
       "      <th>Таможня</th>\n",
       "    </tr>\n",
       "  </thead>\n",
       "  <tbody>\n",
       "    <tr>\n",
       "      <th>14112</th>\n",
       "      <td>пикап двойная кабина</td>\n",
       "      <td>NISSAN</td>\n",
       "      <td>https://auto.ru/cars/used/sale/nissan/navara/1...</td>\n",
       "      <td>чёрный</td>\n",
       "      <td>NaN</td>\n",
       "      <td>По факту второй владелец, по двигателю и ходов...</td>\n",
       "      <td>2.5 LTR</td>\n",
       "      <td>174 N12</td>\n",
       "      <td>{\"engine-proof\":true,\"cruise-control\":true,\"as...</td>\n",
       "      <td>дизель</td>\n",
       "      <td>...</td>\n",
       "      <td>PICKUP_TWO AUTOMATIC 2.5</td>\n",
       "      <td>автоматическая</td>\n",
       "      <td>JAPANESE</td>\n",
       "      <td>2 владельца</td>\n",
       "      <td>13 лет</td>\n",
       "      <td>Оригинал</td>\n",
       "      <td>полный</td>\n",
       "      <td>Левый</td>\n",
       "      <td>Не требует ремонта</td>\n",
       "      <td>Растаможен</td>\n",
       "    </tr>\n",
       "  </tbody>\n",
       "</table>\n",
       "<p>1 rows × 32 columns</p>\n",
       "</div>"
      ],
      "text/plain": [
       "                   bodyType   brand  \\\n",
       "14112  пикап двойная кабина  NISSAN   \n",
       "\n",
       "                                                 car_url   color  \\\n",
       "14112  https://auto.ru/cars/used/sale/nissan/navara/1...  чёрный   \n",
       "\n",
       "      complectation_dict                                        description  \\\n",
       "14112                NaN  По факту второй владелец, по двигателю и ходов...   \n",
       "\n",
       "      engineDisplacement enginePower  \\\n",
       "14112            2.5 LTR     174 N12   \n",
       "\n",
       "                                          equipment_dict fuelType  ...  \\\n",
       "14112  {\"engine-proof\":true,\"cruise-control\":true,\"as...   дизель  ...   \n",
       "\n",
       "           vehicleConfiguration  vehicleTransmission    vendor    Владельцы  \\\n",
       "14112  PICKUP_TWO AUTOMATIC 2.5       автоматическая  JAPANESE  2 владельца   \n",
       "\n",
       "      Владение       ПТС  Привод   Руль           Состояние     Таможня  \n",
       "14112   13 лет  Оригинал  полный  Левый  Не требует ремонта  Растаможен  \n",
       "\n",
       "[1 rows x 32 columns]"
      ]
     },
     "execution_count": 937,
     "metadata": {},
     "output_type": "execute_result"
    }
   ],
   "source": [
    "test = pd.read_csv('test.csv')\n",
    "train = pd.read_csv('all_cars_raw.csv')\n",
    "sample_submission = pd.read_csv('sample_submission.csv')\n",
    "test.sample()"
   ]
  },
  {
   "cell_type": "code",
   "execution_count": 938,
   "id": "c870d241",
   "metadata": {},
   "outputs": [
    {
     "name": "stdout",
     "output_type": "stream",
     "text": [
      "<class 'pandas.core.frame.DataFrame'>\n",
      "RangeIndex: 34686 entries, 0 to 34685\n",
      "Data columns (total 32 columns):\n",
      " #   Column                Non-Null Count  Dtype \n",
      "---  ------                --------------  ----- \n",
      " 0   bodyType              34686 non-null  object\n",
      " 1   brand                 34686 non-null  object\n",
      " 2   car_url               34686 non-null  object\n",
      " 3   color                 34686 non-null  object\n",
      " 4   complectation_dict    6418 non-null   object\n",
      " 5   description           34686 non-null  object\n",
      " 6   engineDisplacement    34686 non-null  object\n",
      " 7   enginePower           34686 non-null  object\n",
      " 8   equipment_dict        24690 non-null  object\n",
      " 9   fuelType              34686 non-null  object\n",
      " 10  image                 34686 non-null  object\n",
      " 11  mileage               34686 non-null  int64 \n",
      " 12  modelDate             34686 non-null  int64 \n",
      " 13  model_info            34686 non-null  object\n",
      " 14  model_name            34686 non-null  object\n",
      " 15  name                  34686 non-null  object\n",
      " 16  numberOfDoors         34686 non-null  int64 \n",
      " 17  parsing_unixtime      34686 non-null  int64 \n",
      " 18  priceCurrency         34686 non-null  object\n",
      " 19  productionDate        34686 non-null  int64 \n",
      " 20  sell_id               34686 non-null  int64 \n",
      " 21  super_gen             34686 non-null  object\n",
      " 22  vehicleConfiguration  34686 non-null  object\n",
      " 23  vehicleTransmission   34686 non-null  object\n",
      " 24  vendor                34686 non-null  object\n",
      " 25  Владельцы             34686 non-null  object\n",
      " 26  Владение              11995 non-null  object\n",
      " 27  ПТС                   34685 non-null  object\n",
      " 28  Привод                34686 non-null  object\n",
      " 29  Руль                  34686 non-null  object\n",
      " 30  Состояние             34686 non-null  object\n",
      " 31  Таможня               34686 non-null  object\n",
      "dtypes: int64(6), object(26)\n",
      "memory usage: 8.5+ MB\n"
     ]
    }
   ],
   "source": [
    "test.info()"
   ]
  },
  {
   "cell_type": "code",
   "execution_count": 939,
   "id": "b6f69e7e",
   "metadata": {},
   "outputs": [
    {
     "data": {
      "text/html": [
       "<div>\n",
       "<style scoped>\n",
       "    .dataframe tbody tr th:only-of-type {\n",
       "        vertical-align: middle;\n",
       "    }\n",
       "\n",
       "    .dataframe tbody tr th {\n",
       "        vertical-align: top;\n",
       "    }\n",
       "\n",
       "    .dataframe thead th {\n",
       "        text-align: right;\n",
       "    }\n",
       "</style>\n",
       "<table border=\"1\" class=\"dataframe\">\n",
       "  <thead>\n",
       "    <tr style=\"text-align: right;\">\n",
       "      <th></th>\n",
       "      <th>bodyType</th>\n",
       "      <th>brand</th>\n",
       "      <th>car_url</th>\n",
       "      <th>color</th>\n",
       "      <th>complectation_dict</th>\n",
       "      <th>description</th>\n",
       "      <th>engineDisplacement</th>\n",
       "      <th>enginePower</th>\n",
       "      <th>equipment_dict</th>\n",
       "      <th>fuelType</th>\n",
       "      <th>...</th>\n",
       "      <th>vehicleConfiguration</th>\n",
       "      <th>vehicleTransmission</th>\n",
       "      <th>vendor</th>\n",
       "      <th>Владельцы</th>\n",
       "      <th>Владение</th>\n",
       "      <th>ПТС</th>\n",
       "      <th>Привод</th>\n",
       "      <th>Руль</th>\n",
       "      <th>Состояние</th>\n",
       "      <th>Таможня</th>\n",
       "    </tr>\n",
       "  </thead>\n",
       "  <tbody>\n",
       "    <tr>\n",
       "      <th>0</th>\n",
       "      <td>лифтбек</td>\n",
       "      <td>SKODA</td>\n",
       "      <td>https://auto.ru/cars/used/sale/skoda/octavia/1...</td>\n",
       "      <td>синий</td>\n",
       "      <td>NaN</td>\n",
       "      <td>Все автомобили, представленные в продаже, прох...</td>\n",
       "      <td>1.2 LTR</td>\n",
       "      <td>105 N12</td>\n",
       "      <td>{\"engine-proof\":true,\"tinted-glass\":true,\"airb...</td>\n",
       "      <td>бензин</td>\n",
       "      <td>...</td>\n",
       "      <td>LIFTBACK ROBOT 1.2</td>\n",
       "      <td>роботизированная</td>\n",
       "      <td>EUROPEAN</td>\n",
       "      <td>3 или более</td>\n",
       "      <td>NaN</td>\n",
       "      <td>Оригинал</td>\n",
       "      <td>передний</td>\n",
       "      <td>Левый</td>\n",
       "      <td>Не требует ремонта</td>\n",
       "      <td>Растаможен</td>\n",
       "    </tr>\n",
       "    <tr>\n",
       "      <th>1</th>\n",
       "      <td>лифтбек</td>\n",
       "      <td>SKODA</td>\n",
       "      <td>https://auto.ru/cars/used/sale/skoda/octavia/1...</td>\n",
       "      <td>чёрный</td>\n",
       "      <td>NaN</td>\n",
       "      <td>ЛОТ: 01217195\\nАвтопрага Север\\nДанный автомоб...</td>\n",
       "      <td>1.6 LTR</td>\n",
       "      <td>110 N12</td>\n",
       "      <td>{\"cruise-control\":true,\"asr\":true,\"esp\":true,\"...</td>\n",
       "      <td>бензин</td>\n",
       "      <td>...</td>\n",
       "      <td>LIFTBACK MECHANICAL 1.6</td>\n",
       "      <td>механическая</td>\n",
       "      <td>EUROPEAN</td>\n",
       "      <td>1 владелец</td>\n",
       "      <td>NaN</td>\n",
       "      <td>Оригинал</td>\n",
       "      <td>передний</td>\n",
       "      <td>Левый</td>\n",
       "      <td>Не требует ремонта</td>\n",
       "      <td>Растаможен</td>\n",
       "    </tr>\n",
       "    <tr>\n",
       "      <th>2</th>\n",
       "      <td>лифтбек</td>\n",
       "      <td>SKODA</td>\n",
       "      <td>https://auto.ru/cars/used/sale/skoda/superb/11...</td>\n",
       "      <td>серый</td>\n",
       "      <td>{\"id\":\"20026336\",\"name\":\"Ambition\",\"available_...</td>\n",
       "      <td>Все автомобили, представленные в продаже, прох...</td>\n",
       "      <td>1.8 LTR</td>\n",
       "      <td>152 N12</td>\n",
       "      <td>{\"cruise-control\":true,\"tinted-glass\":true,\"es...</td>\n",
       "      <td>бензин</td>\n",
       "      <td>...</td>\n",
       "      <td>LIFTBACK ROBOT 1.8</td>\n",
       "      <td>роботизированная</td>\n",
       "      <td>EUROPEAN</td>\n",
       "      <td>1 владелец</td>\n",
       "      <td>NaN</td>\n",
       "      <td>Оригинал</td>\n",
       "      <td>передний</td>\n",
       "      <td>Левый</td>\n",
       "      <td>Не требует ремонта</td>\n",
       "      <td>Растаможен</td>\n",
       "    </tr>\n",
       "    <tr>\n",
       "      <th>3</th>\n",
       "      <td>лифтбек</td>\n",
       "      <td>SKODA</td>\n",
       "      <td>https://auto.ru/cars/used/sale/skoda/octavia/1...</td>\n",
       "      <td>коричневый</td>\n",
       "      <td>{\"id\":\"20803582\",\"name\":\"Ambition\",\"available_...</td>\n",
       "      <td>КОМПЛЕКТ ЗИМНЕЙ (ЛЕТНЕЙ) РЕЗИНЫ ПО СЕЗОНУ В ПО...</td>\n",
       "      <td>1.6 LTR</td>\n",
       "      <td>110 N12</td>\n",
       "      <td>{\"cruise-control\":true,\"roller-blind-for-rear-...</td>\n",
       "      <td>бензин</td>\n",
       "      <td>...</td>\n",
       "      <td>LIFTBACK AUTOMATIC 1.6</td>\n",
       "      <td>автоматическая</td>\n",
       "      <td>EUROPEAN</td>\n",
       "      <td>1 владелец</td>\n",
       "      <td>NaN</td>\n",
       "      <td>Оригинал</td>\n",
       "      <td>передний</td>\n",
       "      <td>Левый</td>\n",
       "      <td>Не требует ремонта</td>\n",
       "      <td>Растаможен</td>\n",
       "    </tr>\n",
       "    <tr>\n",
       "      <th>4</th>\n",
       "      <td>лифтбек</td>\n",
       "      <td>SKODA</td>\n",
       "      <td>https://auto.ru/cars/used/sale/skoda/octavia/1...</td>\n",
       "      <td>белый</td>\n",
       "      <td>NaN</td>\n",
       "      <td>ЛОТ: 01220889\\nАвтопрага Север\\n\\nВы можете по...</td>\n",
       "      <td>1.8 LTR</td>\n",
       "      <td>152 N12</td>\n",
       "      <td>{\"cruise-control\":true,\"asr\":true,\"esp\":true,\"...</td>\n",
       "      <td>бензин</td>\n",
       "      <td>...</td>\n",
       "      <td>LIFTBACK AUTOMATIC 1.8</td>\n",
       "      <td>автоматическая</td>\n",
       "      <td>EUROPEAN</td>\n",
       "      <td>1 владелец</td>\n",
       "      <td>NaN</td>\n",
       "      <td>Оригинал</td>\n",
       "      <td>передний</td>\n",
       "      <td>Левый</td>\n",
       "      <td>Не требует ремонта</td>\n",
       "      <td>Растаможен</td>\n",
       "    </tr>\n",
       "  </tbody>\n",
       "</table>\n",
       "<p>5 rows × 32 columns</p>\n",
       "</div>"
      ],
      "text/plain": [
       "  bodyType  brand                                            car_url  \\\n",
       "0  лифтбек  SKODA  https://auto.ru/cars/used/sale/skoda/octavia/1...   \n",
       "1  лифтбек  SKODA  https://auto.ru/cars/used/sale/skoda/octavia/1...   \n",
       "2  лифтбек  SKODA  https://auto.ru/cars/used/sale/skoda/superb/11...   \n",
       "3  лифтбек  SKODA  https://auto.ru/cars/used/sale/skoda/octavia/1...   \n",
       "4  лифтбек  SKODA  https://auto.ru/cars/used/sale/skoda/octavia/1...   \n",
       "\n",
       "        color                                 complectation_dict  \\\n",
       "0       синий                                                NaN   \n",
       "1      чёрный                                                NaN   \n",
       "2       серый  {\"id\":\"20026336\",\"name\":\"Ambition\",\"available_...   \n",
       "3  коричневый  {\"id\":\"20803582\",\"name\":\"Ambition\",\"available_...   \n",
       "4       белый                                                NaN   \n",
       "\n",
       "                                         description engineDisplacement  \\\n",
       "0  Все автомобили, представленные в продаже, прох...            1.2 LTR   \n",
       "1  ЛОТ: 01217195\\nАвтопрага Север\\nДанный автомоб...            1.6 LTR   \n",
       "2  Все автомобили, представленные в продаже, прох...            1.8 LTR   \n",
       "3  КОМПЛЕКТ ЗИМНЕЙ (ЛЕТНЕЙ) РЕЗИНЫ ПО СЕЗОНУ В ПО...            1.6 LTR   \n",
       "4  ЛОТ: 01220889\\nАвтопрага Север\\n\\nВы можете по...            1.8 LTR   \n",
       "\n",
       "  enginePower                                     equipment_dict fuelType  \\\n",
       "0     105 N12  {\"engine-proof\":true,\"tinted-glass\":true,\"airb...   бензин   \n",
       "1     110 N12  {\"cruise-control\":true,\"asr\":true,\"esp\":true,\"...   бензин   \n",
       "2     152 N12  {\"cruise-control\":true,\"tinted-glass\":true,\"es...   бензин   \n",
       "3     110 N12  {\"cruise-control\":true,\"roller-blind-for-rear-...   бензин   \n",
       "4     152 N12  {\"cruise-control\":true,\"asr\":true,\"esp\":true,\"...   бензин   \n",
       "\n",
       "   ...     vehicleConfiguration  vehicleTransmission    vendor    Владельцы  \\\n",
       "0  ...       LIFTBACK ROBOT 1.2     роботизированная  EUROPEAN  3 или более   \n",
       "1  ...  LIFTBACK MECHANICAL 1.6         механическая  EUROPEAN   1 владелец   \n",
       "2  ...       LIFTBACK ROBOT 1.8     роботизированная  EUROPEAN   1 владелец   \n",
       "3  ...   LIFTBACK AUTOMATIC 1.6       автоматическая  EUROPEAN   1 владелец   \n",
       "4  ...   LIFTBACK AUTOMATIC 1.8       автоматическая  EUROPEAN   1 владелец   \n",
       "\n",
       "  Владение       ПТС    Привод   Руль           Состояние     Таможня  \n",
       "0      NaN  Оригинал  передний  Левый  Не требует ремонта  Растаможен  \n",
       "1      NaN  Оригинал  передний  Левый  Не требует ремонта  Растаможен  \n",
       "2      NaN  Оригинал  передний  Левый  Не требует ремонта  Растаможен  \n",
       "3      NaN  Оригинал  передний  Левый  Не требует ремонта  Растаможен  \n",
       "4      NaN  Оригинал  передний  Левый  Не требует ремонта  Растаможен  \n",
       "\n",
       "[5 rows x 32 columns]"
      ]
     },
     "execution_count": 939,
     "metadata": {},
     "output_type": "execute_result"
    }
   ],
   "source": [
    "test.head(5)"
   ]
  },
  {
   "cell_type": "code",
   "execution_count": 940,
   "id": "7b16447e",
   "metadata": {},
   "outputs": [
    {
     "name": "stdout",
     "output_type": "stream",
     "text": [
      "<class 'pandas.core.frame.DataFrame'>\n",
      "RangeIndex: 61260 entries, 0 to 61259\n",
      "Data columns (total 27 columns):\n",
      " #   Column               Non-Null Count  Dtype  \n",
      "---  ------               --------------  -----  \n",
      " 0   Unnamed: 0           61260 non-null  int64  \n",
      " 1   test                 61260 non-null  int64  \n",
      " 2   style                61260 non-null  object \n",
      " 3   body                 61260 non-null  object \n",
      " 4   color                61260 non-null  object \n",
      " 5   fuel                 61260 non-null  object \n",
      " 6   model_date           59518 non-null  float64\n",
      " 7   doors                61260 non-null  int64  \n",
      " 8   production_date      61260 non-null  float64\n",
      " 9   transmission         61260 non-null  object \n",
      " 10  engine_displacement  61200 non-null  float64\n",
      " 11  engine_power         61260 non-null  int64  \n",
      " 12  mileage              61260 non-null  int64  \n",
      " 13  drive_type           61260 non-null  object \n",
      " 14  wheel                61260 non-null  object \n",
      " 15  condition            61260 non-null  object \n",
      " 16  owners               61260 non-null  object \n",
      " 17  vehicle_title        61260 non-null  object \n",
      " 18  description          58266 non-null  object \n",
      " 19  features             61260 non-null  object \n",
      " 20  ownership            24426 non-null  object \n",
      " 21  price                61260 non-null  int64  \n",
      " 22  url                  61260 non-null  object \n",
      " 23  custom               58442 non-null  object \n",
      " 24  catalog_url          61260 non-null  object \n",
      " 25  brand                61260 non-null  object \n",
      " 26  generation           57501 non-null  object \n",
      "dtypes: float64(3), int64(6), object(18)\n",
      "memory usage: 12.6+ MB\n"
     ]
    }
   ],
   "source": [
    "train.info()"
   ]
  },
  {
   "cell_type": "code",
   "execution_count": 941,
   "id": "778f16ae",
   "metadata": {},
   "outputs": [
    {
     "data": {
      "text/html": [
       "<div>\n",
       "<style scoped>\n",
       "    .dataframe tbody tr th:only-of-type {\n",
       "        vertical-align: middle;\n",
       "    }\n",
       "\n",
       "    .dataframe tbody tr th {\n",
       "        vertical-align: top;\n",
       "    }\n",
       "\n",
       "    .dataframe thead th {\n",
       "        text-align: right;\n",
       "    }\n",
       "</style>\n",
       "<table border=\"1\" class=\"dataframe\">\n",
       "  <thead>\n",
       "    <tr style=\"text-align: right;\">\n",
       "      <th></th>\n",
       "      <th>Unnamed: 0</th>\n",
       "      <th>test</th>\n",
       "      <th>style</th>\n",
       "      <th>body</th>\n",
       "      <th>color</th>\n",
       "      <th>fuel</th>\n",
       "      <th>model_date</th>\n",
       "      <th>doors</th>\n",
       "      <th>production_date</th>\n",
       "      <th>transmission</th>\n",
       "      <th>...</th>\n",
       "      <th>vehicle_title</th>\n",
       "      <th>description</th>\n",
       "      <th>features</th>\n",
       "      <th>ownership</th>\n",
       "      <th>price</th>\n",
       "      <th>url</th>\n",
       "      <th>custom</th>\n",
       "      <th>catalog_url</th>\n",
       "      <th>brand</th>\n",
       "      <th>generation</th>\n",
       "    </tr>\n",
       "  </thead>\n",
       "  <tbody>\n",
       "    <tr>\n",
       "      <th>0</th>\n",
       "      <td>0</td>\n",
       "      <td>0</td>\n",
       "      <td>1.6 MT (105 л.с.)</td>\n",
       "      <td>седан</td>\n",
       "      <td>белый</td>\n",
       "      <td>Бензин</td>\n",
       "      <td>2009.0</td>\n",
       "      <td>5</td>\n",
       "      <td>2013.0</td>\n",
       "      <td>механическая</td>\n",
       "      <td>...</td>\n",
       "      <td>Оригинал</td>\n",
       "      <td>Машина отличная. Честно была в такси. Точнее д...</td>\n",
       "      <td>[]</td>\n",
       "      <td>NaN</td>\n",
       "      <td>360000</td>\n",
       "      <td>https://auto.ru/cars/used/sale/volkswagen/polo...</td>\n",
       "      <td>Растаможен</td>\n",
       "      <td>https://auto.ru/catalog/cars/volkswagen/polo/5...</td>\n",
       "      <td>volkswagen</td>\n",
       "      <td>5 поколение</td>\n",
       "    </tr>\n",
       "    <tr>\n",
       "      <th>1</th>\n",
       "      <td>1</td>\n",
       "      <td>0</td>\n",
       "      <td>3.6 AT (280 л.с.) 4WD</td>\n",
       "      <td>внедорожник</td>\n",
       "      <td>серый</td>\n",
       "      <td>Бензин</td>\n",
       "      <td>2007.0</td>\n",
       "      <td>5</td>\n",
       "      <td>2008.0</td>\n",
       "      <td>автоматическая</td>\n",
       "      <td>...</td>\n",
       "      <td>Оригинал</td>\n",
       "      <td>Продаю из-за ипотеки, машина кредитная банк сн...</td>\n",
       "      <td>['Круиз-контроль', 'Мультифункциональное рулев...</td>\n",
       "      <td>1 год и 4 месяца</td>\n",
       "      <td>820000</td>\n",
       "      <td>https://auto.ru/cars/used/sale/volkswagen/toua...</td>\n",
       "      <td>Растаможен</td>\n",
       "      <td>https://auto.ru/catalog/cars/volkswagen/touare...</td>\n",
       "      <td>volkswagen</td>\n",
       "      <td>1 поколение рестайлинг</td>\n",
       "    </tr>\n",
       "    <tr>\n",
       "      <th>2</th>\n",
       "      <td>2</td>\n",
       "      <td>0</td>\n",
       "      <td>1.2 MT (86 л.с.)</td>\n",
       "      <td>компактвэн</td>\n",
       "      <td>синий</td>\n",
       "      <td>Бензин</td>\n",
       "      <td>2010.0</td>\n",
       "      <td>5</td>\n",
       "      <td>2011.0</td>\n",
       "      <td>механическая</td>\n",
       "      <td>...</td>\n",
       "      <td>Оригинал</td>\n",
       "      <td>хорошая рабочая машина все работает  то пройде...</td>\n",
       "      <td>['Количество мест: 2', 'Ткань (Материал салона...</td>\n",
       "      <td>2 года и 11 месяцев</td>\n",
       "      <td>390000</td>\n",
       "      <td>https://auto.ru/cars/used/sale/volkswagen/cadd...</td>\n",
       "      <td>Растаможен</td>\n",
       "      <td>https://auto.ru/catalog/cars/volkswagen/caddy/...</td>\n",
       "      <td>volkswagen</td>\n",
       "      <td>3 поколение рестайлинг</td>\n",
       "    </tr>\n",
       "    <tr>\n",
       "      <th>3</th>\n",
       "      <td>3</td>\n",
       "      <td>0</td>\n",
       "      <td>2.5d MT (174 л.с.)</td>\n",
       "      <td>минивэн</td>\n",
       "      <td>чёрный</td>\n",
       "      <td>Дизель</td>\n",
       "      <td>2003.0</td>\n",
       "      <td>5</td>\n",
       "      <td>2004.0</td>\n",
       "      <td>механическая</td>\n",
       "      <td>...</td>\n",
       "      <td>Оригинал</td>\n",
       "      <td>Много дополнительного оборудования и аксессуаров</td>\n",
       "      <td>[]</td>\n",
       "      <td>NaN</td>\n",
       "      <td>1500000</td>\n",
       "      <td>https://auto.ru/cars/used/sale/volkswagen/mult...</td>\n",
       "      <td>Растаможен</td>\n",
       "      <td>https://auto.ru/catalog/cars/volkswagen/multiv...</td>\n",
       "      <td>volkswagen</td>\n",
       "      <td>NaN</td>\n",
       "    </tr>\n",
       "    <tr>\n",
       "      <th>4</th>\n",
       "      <td>4</td>\n",
       "      <td>0</td>\n",
       "      <td>1.6 AT (110 л.с.)</td>\n",
       "      <td>седан</td>\n",
       "      <td>белый</td>\n",
       "      <td>Бензин</td>\n",
       "      <td>2014.0</td>\n",
       "      <td>5</td>\n",
       "      <td>2019.0</td>\n",
       "      <td>автоматическая</td>\n",
       "      <td>...</td>\n",
       "      <td>Оригинал</td>\n",
       "      <td>Машина в идеальном состоянии! Чехлы надеты сра...</td>\n",
       "      <td>['Круиз-контроль', 'Электростеклоподъёмники пе...</td>\n",
       "      <td>8 месяцев</td>\n",
       "      <td>840000</td>\n",
       "      <td>https://auto.ru/cars/used/sale/volkswagen/polo...</td>\n",
       "      <td>Растаможен</td>\n",
       "      <td>https://auto.ru/catalog/cars/volkswagen/polo/2...</td>\n",
       "      <td>volkswagen</td>\n",
       "      <td>5 поколение рестайлинг</td>\n",
       "    </tr>\n",
       "  </tbody>\n",
       "</table>\n",
       "<p>5 rows × 27 columns</p>\n",
       "</div>"
      ],
      "text/plain": [
       "   Unnamed: 0  test                   style         body   color    fuel  \\\n",
       "0           0     0      1.6 MT (105 л.с.)         седан   белый  Бензин   \n",
       "1           1     0  3.6 AT (280 л.с.) 4WD   внедорожник   серый  Бензин   \n",
       "2           2     0       1.2 MT (86 л.с.)    компактвэн   синий  Бензин   \n",
       "3           3     0     2.5d MT (174 л.с.)       минивэн  чёрный  Дизель   \n",
       "4           4     0      1.6 AT (110 л.с.)         седан   белый  Бензин   \n",
       "\n",
       "   model_date  doors  production_date    transmission  ...  vehicle_title  \\\n",
       "0      2009.0      5           2013.0    механическая  ...       Оригинал   \n",
       "1      2007.0      5           2008.0  автоматическая  ...       Оригинал   \n",
       "2      2010.0      5           2011.0    механическая  ...       Оригинал   \n",
       "3      2003.0      5           2004.0    механическая  ...       Оригинал   \n",
       "4      2014.0      5           2019.0  автоматическая  ...       Оригинал   \n",
       "\n",
       "                                         description  \\\n",
       "0  Машина отличная. Честно была в такси. Точнее д...   \n",
       "1  Продаю из-за ипотеки, машина кредитная банк сн...   \n",
       "2  хорошая рабочая машина все работает  то пройде...   \n",
       "3   Много дополнительного оборудования и аксессуаров   \n",
       "4  Машина в идеальном состоянии! Чехлы надеты сра...   \n",
       "\n",
       "                                            features            ownership  \\\n",
       "0                                                 []                  NaN   \n",
       "1  ['Круиз-контроль', 'Мультифункциональное рулев...     1 год и 4 месяца   \n",
       "2  ['Количество мест: 2', 'Ткань (Материал салона...  2 года и 11 месяцев   \n",
       "3                                                 []                  NaN   \n",
       "4  ['Круиз-контроль', 'Электростеклоподъёмники пе...            8 месяцев   \n",
       "\n",
       "     price                                                url      custom  \\\n",
       "0   360000  https://auto.ru/cars/used/sale/volkswagen/polo...  Растаможен   \n",
       "1   820000  https://auto.ru/cars/used/sale/volkswagen/toua...  Растаможен   \n",
       "2   390000  https://auto.ru/cars/used/sale/volkswagen/cadd...  Растаможен   \n",
       "3  1500000  https://auto.ru/cars/used/sale/volkswagen/mult...  Растаможен   \n",
       "4   840000  https://auto.ru/cars/used/sale/volkswagen/polo...  Растаможен   \n",
       "\n",
       "                                         catalog_url       brand  \\\n",
       "0  https://auto.ru/catalog/cars/volkswagen/polo/5...  volkswagen   \n",
       "1  https://auto.ru/catalog/cars/volkswagen/touare...  volkswagen   \n",
       "2  https://auto.ru/catalog/cars/volkswagen/caddy/...  volkswagen   \n",
       "3  https://auto.ru/catalog/cars/volkswagen/multiv...  volkswagen   \n",
       "4  https://auto.ru/catalog/cars/volkswagen/polo/2...  volkswagen   \n",
       "\n",
       "                generation  \n",
       "0             5 поколение   \n",
       "1  1 поколение рестайлинг   \n",
       "2  3 поколение рестайлинг   \n",
       "3                      NaN  \n",
       "4  5 поколение рестайлинг   \n",
       "\n",
       "[5 rows x 27 columns]"
      ]
     },
     "execution_count": 941,
     "metadata": {},
     "output_type": "execute_result"
    }
   ],
   "source": [
    "train.head()"
   ]
  },
  {
   "cell_type": "code",
   "execution_count": 942,
   "id": "7868aae3",
   "metadata": {},
   "outputs": [
    {
     "name": "stdout",
     "output_type": "stream",
     "text": [
      "{'priceCurrency', 'image', 'Руль', 'vehicleConfiguration', 'Таможня', 'car_url', 'vendor', 'vehicleTransmission', 'numberOfDoors', 'sell_id', 'equipment_dict', 'parsing_unixtime', 'Привод', 'modelDate', 'Состояние', 'model_name', 'complectation_dict', 'ПТС', 'model_info', 'engineDisplacement', 'Владение', 'name', 'super_gen', 'productionDate', 'enginePower', 'fuelType', 'bodyType', 'Владельцы'}\n",
      "{'generation', 'model_date', 'vehicle_title', 'condition', 'features', 'transmission', 'drive_type', 'custom', 'body', 'url', 'fuel', 'production_date', 'catalog_url', 'doors', 'engine_power', 'ownership', 'owners', 'engine_displacement', 'price', 'Unnamed: 0', 'style', 'wheel', 'test'}\n"
     ]
    }
   ],
   "source": [
    "#redundant columns in test:\n",
    "print(set(test.columns)-set(train.columns))\n",
    "print(set(train.columns)-set(test.columns))"
   ]
  },
  {
   "cell_type": "code",
   "execution_count": 943,
   "id": "a7008de3",
   "metadata": {},
   "outputs": [
    {
     "name": "stdout",
     "output_type": "stream",
     "text": [
      "<class 'pandas.core.frame.DataFrame'>\n",
      "RangeIndex: 34686 entries, 0 to 34685\n",
      "Data columns (total 20 columns):\n",
      " #   Column                Non-Null Count  Dtype \n",
      "---  ------                --------------  ----- \n",
      " 0   bodyType              34686 non-null  object\n",
      " 1   brand                 34686 non-null  object\n",
      " 2   color                 34686 non-null  object\n",
      " 3   description           34686 non-null  object\n",
      " 4   engineDisplacement    34686 non-null  object\n",
      " 5   enginePower           34686 non-null  object\n",
      " 6   fuelType              34686 non-null  object\n",
      " 7   mileage               34686 non-null  int64 \n",
      " 8   modelDate             34686 non-null  int64 \n",
      " 9   name                  34686 non-null  object\n",
      " 10  numberOfDoors         34686 non-null  int64 \n",
      " 11  productionDate        34686 non-null  int64 \n",
      " 12  vehicleConfiguration  34686 non-null  object\n",
      " 13  vehicleTransmission   34686 non-null  object\n",
      " 14  Владельцы             34686 non-null  object\n",
      " 15  ПТС                   34685 non-null  object\n",
      " 16  Привод                34686 non-null  object\n",
      " 17  Руль                  34686 non-null  object\n",
      " 18  Состояние             34686 non-null  object\n",
      " 19  Таможня               34686 non-null  object\n",
      "dtypes: int64(4), object(16)\n",
      "memory usage: 5.3+ MB\n"
     ]
    }
   ],
   "source": [
    "# Drop data (columns) what can't be processed.\n",
    "test=test.drop(['model_name', 'parsing_unixtime', 'priceCurrency', 'equipment_dict', 'model_info', 'sell_id', 'vendor', 'complectation_dict', 'image', 'car_url', 'super_gen', 'Владение'], axis=1)\n",
    "#'model_name might been deleted, there are additional charachterestics.\n",
    "test.info()"
   ]
  },
  {
   "cell_type": "markdown",
   "id": "c68ca253",
   "metadata": {},
   "source": [
    "# The Fitting:) "
   ]
  },
  {
   "cell_type": "code",
   "execution_count": 944,
   "id": "231663a0",
   "metadata": {},
   "outputs": [],
   "source": [
    "train.rename(columns={'body': 'bodyType',\n",
    "                     'vehicle_title': 'ПТС',\n",
    "                     'engine_displacement': 'engineDisplacement',\n",
    "                     'engine_power': 'enginePower',\n",
    "                     'fuel': 'fuelType',\n",
    "                     'model_date': 'modelDate',\n",
    "                     'doors': 'numberOfDoors',\n",
    "                     'production_date': 'productionDate',\n",
    "                     'transmission': 'vehicleTransmission',\n",
    "                     'drive_type': 'Привод',\n",
    "                     'owners': 'Владельцы',\n",
    "                     'wheel': 'Руль',\n",
    "                      'ownership': 'Владение',\n",
    "                     'Цена': 'price',\n",
    "                     'condition': 'Состояние', 'custom': 'Таможня', 'features': 'equipment_dict', 'brand': 'brand', 'color': 'color'   }, inplace=True)"
   ]
  },
  {
   "cell_type": "code",
   "execution_count": 945,
   "id": "199001dd",
   "metadata": {},
   "outputs": [
    {
     "name": "stdout",
     "output_type": "stream",
     "text": [
      "<class 'pandas.core.frame.DataFrame'>\n",
      "Int64Index: 53971 entries, 0 to 61259\n",
      "Data columns (total 27 columns):\n",
      " #   Column               Non-Null Count  Dtype  \n",
      "---  ------               --------------  -----  \n",
      " 0   Unnamed: 0           53971 non-null  int64  \n",
      " 1   test                 53971 non-null  int64  \n",
      " 2   style                53971 non-null  object \n",
      " 3   bodyType             53971 non-null  object \n",
      " 4   color                53971 non-null  object \n",
      " 5   fuelType             53971 non-null  object \n",
      " 6   modelDate            53971 non-null  float64\n",
      " 7   numberOfDoors        53971 non-null  int64  \n",
      " 8   productionDate       53971 non-null  float64\n",
      " 9   vehicleTransmission  53971 non-null  object \n",
      " 10  engineDisplacement   53971 non-null  float64\n",
      " 11  enginePower          53971 non-null  int64  \n",
      " 12  mileage              53971 non-null  int64  \n",
      " 13  Привод               53971 non-null  object \n",
      " 14  Руль                 53971 non-null  object \n",
      " 15  Состояние            53971 non-null  object \n",
      " 16  Владельцы            53971 non-null  object \n",
      " 17  ПТС                  53971 non-null  object \n",
      " 18  description          53971 non-null  object \n",
      " 19  equipment_dict       53971 non-null  object \n",
      " 20  Владение             22311 non-null  object \n",
      " 21  price                53971 non-null  int64  \n",
      " 22  url                  53971 non-null  object \n",
      " 23  Таможня              53971 non-null  object \n",
      " 24  catalog_url          53971 non-null  object \n",
      " 25  brand                53971 non-null  object \n",
      " 26  generation           50562 non-null  object \n",
      "dtypes: float64(3), int64(6), object(18)\n",
      "memory usage: 11.5+ MB\n"
     ]
    }
   ],
   "source": [
    "#Let's clean empty lines in all columns except for the least filled - 'Владельцы'и 'Владение'.\n",
    "train = train.dropna(subset=['bodyType', 'brand', 'color', 'fuelType', 'modelDate', 'numberOfDoors', 'productionDate', 'vehicleTransmission', 'engineDisplacement', 'enginePower',\n",
    "       'description', 'mileage', 'Привод', 'Руль', 'ПТС', 'Таможня', 'price',])\n",
    "train.info()"
   ]
  },
  {
   "cell_type": "code",
   "execution_count": 946,
   "id": "1d6d7e8f",
   "metadata": {},
   "outputs": [
    {
     "data": {
      "text/html": [
       "<div>\n",
       "<style scoped>\n",
       "    .dataframe tbody tr th:only-of-type {\n",
       "        vertical-align: middle;\n",
       "    }\n",
       "\n",
       "    .dataframe tbody tr th {\n",
       "        vertical-align: top;\n",
       "    }\n",
       "\n",
       "    .dataframe thead th {\n",
       "        text-align: right;\n",
       "    }\n",
       "</style>\n",
       "<table border=\"1\" class=\"dataframe\">\n",
       "  <thead>\n",
       "    <tr style=\"text-align: right;\">\n",
       "      <th></th>\n",
       "      <th>Unnamed: 0</th>\n",
       "      <th>test</th>\n",
       "      <th>style</th>\n",
       "      <th>bodyType</th>\n",
       "      <th>color</th>\n",
       "      <th>fuelType</th>\n",
       "      <th>modelDate</th>\n",
       "      <th>numberOfDoors</th>\n",
       "      <th>productionDate</th>\n",
       "      <th>vehicleTransmission</th>\n",
       "      <th>...</th>\n",
       "      <th>ПТС</th>\n",
       "      <th>description</th>\n",
       "      <th>equipment_dict</th>\n",
       "      <th>Владение</th>\n",
       "      <th>price</th>\n",
       "      <th>url</th>\n",
       "      <th>Таможня</th>\n",
       "      <th>catalog_url</th>\n",
       "      <th>brand</th>\n",
       "      <th>generation</th>\n",
       "    </tr>\n",
       "  </thead>\n",
       "  <tbody>\n",
       "    <tr>\n",
       "      <th>0</th>\n",
       "      <td>0</td>\n",
       "      <td>0</td>\n",
       "      <td>1.6 MT (105 л.с.)</td>\n",
       "      <td>седан</td>\n",
       "      <td>белый</td>\n",
       "      <td>Бензин</td>\n",
       "      <td>2009.0</td>\n",
       "      <td>5</td>\n",
       "      <td>2013.0</td>\n",
       "      <td>механическая</td>\n",
       "      <td>...</td>\n",
       "      <td>Оригинал</td>\n",
       "      <td>Машина отличная. Честно была в такси. Точнее д...</td>\n",
       "      <td>[]</td>\n",
       "      <td>NaN</td>\n",
       "      <td>360000</td>\n",
       "      <td>https://auto.ru/cars/used/sale/volkswagen/polo...</td>\n",
       "      <td>Растаможен</td>\n",
       "      <td>https://auto.ru/catalog/cars/volkswagen/polo/5...</td>\n",
       "      <td>volkswagen</td>\n",
       "      <td>5 поколение</td>\n",
       "    </tr>\n",
       "    <tr>\n",
       "      <th>1</th>\n",
       "      <td>1</td>\n",
       "      <td>0</td>\n",
       "      <td>3.6 AT (280 л.с.) 4WD</td>\n",
       "      <td>внедорожник</td>\n",
       "      <td>серый</td>\n",
       "      <td>Бензин</td>\n",
       "      <td>2007.0</td>\n",
       "      <td>5</td>\n",
       "      <td>2008.0</td>\n",
       "      <td>автоматическая</td>\n",
       "      <td>...</td>\n",
       "      <td>Оригинал</td>\n",
       "      <td>Продаю из-за ипотеки, машина кредитная банк сн...</td>\n",
       "      <td>['Круиз-контроль', 'Мультифункциональное рулев...</td>\n",
       "      <td>1 год и 4 месяца</td>\n",
       "      <td>820000</td>\n",
       "      <td>https://auto.ru/cars/used/sale/volkswagen/toua...</td>\n",
       "      <td>Растаможен</td>\n",
       "      <td>https://auto.ru/catalog/cars/volkswagen/touare...</td>\n",
       "      <td>volkswagen</td>\n",
       "      <td>1 поколение рестайлинг</td>\n",
       "    </tr>\n",
       "    <tr>\n",
       "      <th>2</th>\n",
       "      <td>2</td>\n",
       "      <td>0</td>\n",
       "      <td>1.2 MT (86 л.с.)</td>\n",
       "      <td>компактвэн</td>\n",
       "      <td>синий</td>\n",
       "      <td>Бензин</td>\n",
       "      <td>2010.0</td>\n",
       "      <td>5</td>\n",
       "      <td>2011.0</td>\n",
       "      <td>механическая</td>\n",
       "      <td>...</td>\n",
       "      <td>Оригинал</td>\n",
       "      <td>хорошая рабочая машина все работает  то пройде...</td>\n",
       "      <td>['Количество мест: 2', 'Ткань (Материал салона...</td>\n",
       "      <td>2 года и 11 месяцев</td>\n",
       "      <td>390000</td>\n",
       "      <td>https://auto.ru/cars/used/sale/volkswagen/cadd...</td>\n",
       "      <td>Растаможен</td>\n",
       "      <td>https://auto.ru/catalog/cars/volkswagen/caddy/...</td>\n",
       "      <td>volkswagen</td>\n",
       "      <td>3 поколение рестайлинг</td>\n",
       "    </tr>\n",
       "    <tr>\n",
       "      <th>3</th>\n",
       "      <td>3</td>\n",
       "      <td>0</td>\n",
       "      <td>2.5d MT (174 л.с.)</td>\n",
       "      <td>минивэн</td>\n",
       "      <td>чёрный</td>\n",
       "      <td>Дизель</td>\n",
       "      <td>2003.0</td>\n",
       "      <td>5</td>\n",
       "      <td>2004.0</td>\n",
       "      <td>механическая</td>\n",
       "      <td>...</td>\n",
       "      <td>Оригинал</td>\n",
       "      <td>Много дополнительного оборудования и аксессуаров</td>\n",
       "      <td>[]</td>\n",
       "      <td>NaN</td>\n",
       "      <td>1500000</td>\n",
       "      <td>https://auto.ru/cars/used/sale/volkswagen/mult...</td>\n",
       "      <td>Растаможен</td>\n",
       "      <td>https://auto.ru/catalog/cars/volkswagen/multiv...</td>\n",
       "      <td>volkswagen</td>\n",
       "      <td>NaN</td>\n",
       "    </tr>\n",
       "    <tr>\n",
       "      <th>4</th>\n",
       "      <td>4</td>\n",
       "      <td>0</td>\n",
       "      <td>1.6 AT (110 л.с.)</td>\n",
       "      <td>седан</td>\n",
       "      <td>белый</td>\n",
       "      <td>Бензин</td>\n",
       "      <td>2014.0</td>\n",
       "      <td>5</td>\n",
       "      <td>2019.0</td>\n",
       "      <td>автоматическая</td>\n",
       "      <td>...</td>\n",
       "      <td>Оригинал</td>\n",
       "      <td>Машина в идеальном состоянии! Чехлы надеты сра...</td>\n",
       "      <td>['Круиз-контроль', 'Электростеклоподъёмники пе...</td>\n",
       "      <td>8 месяцев</td>\n",
       "      <td>840000</td>\n",
       "      <td>https://auto.ru/cars/used/sale/volkswagen/polo...</td>\n",
       "      <td>Растаможен</td>\n",
       "      <td>https://auto.ru/catalog/cars/volkswagen/polo/2...</td>\n",
       "      <td>volkswagen</td>\n",
       "      <td>5 поколение рестайлинг</td>\n",
       "    </tr>\n",
       "  </tbody>\n",
       "</table>\n",
       "<p>5 rows × 27 columns</p>\n",
       "</div>"
      ],
      "text/plain": [
       "   Unnamed: 0  test                   style     bodyType   color fuelType  \\\n",
       "0           0     0      1.6 MT (105 л.с.)         седан   белый   Бензин   \n",
       "1           1     0  3.6 AT (280 л.с.) 4WD   внедорожник   серый   Бензин   \n",
       "2           2     0       1.2 MT (86 л.с.)    компактвэн   синий   Бензин   \n",
       "3           3     0     2.5d MT (174 л.с.)       минивэн  чёрный   Дизель   \n",
       "4           4     0      1.6 AT (110 л.с.)         седан   белый   Бензин   \n",
       "\n",
       "   modelDate  numberOfDoors  productionDate vehicleTransmission  ...  \\\n",
       "0     2009.0              5          2013.0        механическая  ...   \n",
       "1     2007.0              5          2008.0      автоматическая  ...   \n",
       "2     2010.0              5          2011.0        механическая  ...   \n",
       "3     2003.0              5          2004.0        механическая  ...   \n",
       "4     2014.0              5          2019.0      автоматическая  ...   \n",
       "\n",
       "        ПТС                                        description  \\\n",
       "0  Оригинал  Машина отличная. Честно была в такси. Точнее д...   \n",
       "1  Оригинал  Продаю из-за ипотеки, машина кредитная банк сн...   \n",
       "2  Оригинал  хорошая рабочая машина все работает  то пройде...   \n",
       "3  Оригинал   Много дополнительного оборудования и аксессуаров   \n",
       "4  Оригинал  Машина в идеальном состоянии! Чехлы надеты сра...   \n",
       "\n",
       "                                      equipment_dict             Владение  \\\n",
       "0                                                 []                  NaN   \n",
       "1  ['Круиз-контроль', 'Мультифункциональное рулев...     1 год и 4 месяца   \n",
       "2  ['Количество мест: 2', 'Ткань (Материал салона...  2 года и 11 месяцев   \n",
       "3                                                 []                  NaN   \n",
       "4  ['Круиз-контроль', 'Электростеклоподъёмники пе...            8 месяцев   \n",
       "\n",
       "     price                                                url     Таможня  \\\n",
       "0   360000  https://auto.ru/cars/used/sale/volkswagen/polo...  Растаможен   \n",
       "1   820000  https://auto.ru/cars/used/sale/volkswagen/toua...  Растаможен   \n",
       "2   390000  https://auto.ru/cars/used/sale/volkswagen/cadd...  Растаможен   \n",
       "3  1500000  https://auto.ru/cars/used/sale/volkswagen/mult...  Растаможен   \n",
       "4   840000  https://auto.ru/cars/used/sale/volkswagen/polo...  Растаможен   \n",
       "\n",
       "                                         catalog_url       brand  \\\n",
       "0  https://auto.ru/catalog/cars/volkswagen/polo/5...  volkswagen   \n",
       "1  https://auto.ru/catalog/cars/volkswagen/touare...  volkswagen   \n",
       "2  https://auto.ru/catalog/cars/volkswagen/caddy/...  volkswagen   \n",
       "3  https://auto.ru/catalog/cars/volkswagen/multiv...  volkswagen   \n",
       "4  https://auto.ru/catalog/cars/volkswagen/polo/2...  volkswagen   \n",
       "\n",
       "                generation  \n",
       "0             5 поколение   \n",
       "1  1 поколение рестайлинг   \n",
       "2  3 поколение рестайлинг   \n",
       "3                      NaN  \n",
       "4  5 поколение рестайлинг   \n",
       "\n",
       "[5 rows x 27 columns]"
      ]
     },
     "execution_count": 946,
     "metadata": {},
     "output_type": "execute_result"
    }
   ],
   "source": [
    "train.head(5)"
   ]
  },
  {
   "cell_type": "code",
   "execution_count": 947,
   "id": "af6cb021",
   "metadata": {},
   "outputs": [],
   "source": [
    "train = train.drop(['Unnamed: 0', 'catalog_url', 'equipment_dict', 'generation', 'url' ], axis=1)\n"
   ]
  },
  {
   "cell_type": "code",
   "execution_count": 948,
   "id": "aed5b4ef",
   "metadata": {},
   "outputs": [
    {
     "data": {
      "text/plain": [
       "{'price', 'style', 'test', 'Владение'}"
      ]
     },
     "execution_count": 948,
     "metadata": {},
     "output_type": "execute_result"
    }
   ],
   "source": [
    "# checking columns in diff daatasets:\n",
    "test_columns=set(test.columns)\n",
    "train_columns=set(train.columns)\n",
    "train_columns-test_columns"
   ]
  },
  {
   "cell_type": "code",
   "execution_count": 949,
   "id": "44932a35",
   "metadata": {},
   "outputs": [
    {
     "ename": "SyntaxError",
     "evalue": "invalid syntax (<ipython-input-949-f56af382272d>, line 1)",
     "output_type": "error",
     "traceback": [
      "\u001b[1;36m  File \u001b[1;32m\"<ipython-input-949-f56af382272d>\"\u001b[1;36m, line \u001b[1;32m1\u001b[0m\n\u001b[1;33m    Let's consider numerical characteristics - 'modelDate', 'productionDate' and 'mileage'. If there are emissions,\u001b[0m\n\u001b[1;37m       ^\u001b[0m\n\u001b[1;31mSyntaxError\u001b[0m\u001b[1;31m:\u001b[0m invalid syntax\n"
     ]
    }
   ],
   "source": [
    "Let's consider numerical characteristics - 'modelDate', 'productionDate' and 'mileage'. If there are emissions, \n",
    "something will have to be done with them.\n",
    "Or don't. Let's consider the target variable 'price' separately"
   ]
  },
  {
   "cell_type": "code",
   "execution_count": 950,
   "id": "c0937d1a",
   "metadata": {},
   "outputs": [
    {
     "data": {
      "image/png": "[encoded data removed]",
      "text/plain": [
       "<Figure size 720x720 with 1 Axes>"
      ]
     },
     "metadata": {
      "needs_background": "light"
     },
     "output_type": "display_data"
    }
   ],
   "source": [
    "import seaborn as sns\n",
    "boxes = train[['modelDate', 'productionDate']]\n",
    "ax = sns.boxplot(data=boxes)"
   ]
  },
  {
   "cell_type": "markdown",
   "id": "050213a1",
   "metadata": {},
   "source": [
    "There are a lot off antique cars, so the main purpose not to purchase the old car, the main pur - to find good & effective model"
   ]
  },
  {
   "cell_type": "code",
   "execution_count": 951,
   "id": "e62d9a69",
   "metadata": {},
   "outputs": [
    {
     "data": {
      "image/png": "[encoded data removed]",
      "text/plain": [
       "<Figure size 720x720 with 1 Axes>"
      ]
     },
     "metadata": {
      "needs_background": "light"
     },
     "output_type": "display_data"
    }
   ],
   "source": [
    "Q_005 = train.modelDate.quantile(0.05)\n",
    "train = train.loc[train['modelDate']>=Q_005]\n",
    "\n",
    "boxes = train[['modelDate', 'productionDate']]\n",
    "ax = sns.boxplot(data=boxes)"
   ]
  },
  {
   "cell_type": "code",
   "execution_count": 952,
   "id": "95499d5f",
   "metadata": {},
   "outputs": [
    {
     "data": {
      "text/plain": [
       "<AxesSubplot:>"
      ]
     },
     "execution_count": 952,
     "metadata": {},
     "output_type": "execute_result"
    },
    {
     "data": {
      "image/png": "[encoded data removed]",
      "text/plain": [
       "<Figure size 720x720 with 1 Axes>"
      ]
     },
     "metadata": {
      "needs_background": "light"
     },
     "output_type": "display_data"
    }
   ],
   "source": [
    "Q_098 = train['mileage'].quantile(0.98)\n",
    "train = train.loc[train['mileage']<=Q_098]\n",
    "train.boxplot(column=['mileage'])"
   ]
  },
  {
   "cell_type": "code",
   "execution_count": 953,
   "id": "3393ef3d",
   "metadata": {},
   "outputs": [
    {
     "data": {
      "text/plain": [
       "<AxesSubplot:>"
      ]
     },
     "execution_count": 953,
     "metadata": {},
     "output_type": "execute_result"
    },
    {
     "data": {
      "image/png": "[encoded data removed]",
      "text/plain": [
       "<Figure size 720x720 with 1 Axes>"
      ]
     },
     "metadata": {
      "needs_background": "light"
     },
     "output_type": "display_data"
    }
   ],
   "source": [
    "#The spread in this parameter is also large. Let's try to throw out 10% of the most powerful cars at once.\n",
    "Q_090 = train['enginePower'].quantile(0.90)\n",
    "train = train.loc[train['enginePower']<=Q_090]\n",
    "train.boxplot(column=['enginePower'])"
   ]
  },
  {
   "cell_type": "code",
   "execution_count": 954,
   "id": "c4b9c724",
   "metadata": {},
   "outputs": [
    {
     "data": {
      "text/plain": [
       "<AxesSubplot:>"
      ]
     },
     "execution_count": 954,
     "metadata": {},
     "output_type": "execute_result"
    },
    {
     "data": {
      "image/png": "[encoded data removed]",
      "text/plain": [
       "<Figure size 720x720 with 1 Axes>"
      ]
     },
     "metadata": {
      "needs_background": "light"
     },
     "output_type": "display_data"
    }
   ],
   "source": [
    "# Let's try to exclude 0.5% of the most expensive cars\n",
    "Q_0995 = train['price'].quantile(0.995)\n",
    "train = train.loc[train['price']<=Q_0995]\n",
    "train.boxplot(column=['price'])"
   ]
  },
  {
   "cell_type": "code",
   "execution_count": 955,
   "id": "6715c9d8",
   "metadata": {},
   "outputs": [
    {
     "name": "stdout",
     "output_type": "stream",
     "text": [
      "28\n",
      "69\n",
      "130\n",
      "9\n",
      "19\n",
      "6988\n",
      "6692\n",
      "34\n",
      "207\n",
      "21\n",
      "10034\n",
      "329\n",
      "80\n"
     ]
    }
   ],
   "source": [
    "desc=[]\n",
    "train['description'].apply(lambda x: desc.append(x))\n",
    "print(str(desc).count('осле ДТП'))\n",
    "print(str(desc).count('риложить руки'))\n",
    "print(str(desc).count('ребует ремонта'))\n",
    "print(str(desc).count('од ремонт'))\n",
    "print(str(desc).count('не гнилое'))\n",
    "print(str(desc).count('хорошем состояни'))\n",
    "print(str(desc).count('отличном состояни'))\n",
    "print(str(desc).count('приличном состояни'))\n",
    "print(str(desc).count('нормальном состояни'))\n",
    "print(str(desc).count('удовлетворительном состояни'))\n",
    "print(str(desc).count('илер'))\n",
    "print(str(desc).count('иллер'))\n",
    "print(str(desc).count('восстановлен'))"
   ]
  },
  {
   "cell_type": "code",
   "execution_count": 956,
   "id": "3f7cbd2a",
   "metadata": {},
   "outputs": [
    {
     "data": {
      "text/plain": [
       "0        2\n",
       "2        4\n",
       "3        1\n",
       "4        1\n",
       "7        2\n",
       "        ..\n",
       "61254    4\n",
       "61255    4\n",
       "61257    4\n",
       "61258    4\n",
       "61259    4\n",
       "Name: Владельцы, Length: 45339, dtype: object"
      ]
     },
     "execution_count": 956,
     "metadata": {},
     "output_type": "execute_result"
    }
   ],
   "source": [
    "train[\"Владельцы\"]= train[\"Владельцы\"].replace('3 или более', '4')\n",
    "train[\"Владельцы\"]= train[\"Владельцы\"].replace('3 или более', '4')\n",
    "train[\"Владельцы\"]= train[\"Владельцы\"].replace('2 или более', '3')\n",
    "train[\"Владельцы\"]= train[\"Владельцы\"].replace('1 или более', '2')\n",
    "train[\"Владельцы\"]= train[\"Владельцы\"].replace('1 владелец', '1')\n",
    "train[\"Владельцы\"]= train[\"Владельцы\"].replace('1 владелец', '1')\n",
    "train[\"Владельцы\"]= train[\"Владельцы\"].replace('2 владельца', '2')\n",
    "train[\"Владельцы\"]= train[\"Владельцы\"].replace('2 владельца', '2')\n",
    "train[\"Владельцы\"]= train[\"Владельцы\"].replace('3 владельца', '3')\n",
    "\n",
    "train[\"Владельцы\"]"
   ]
  },
  {
   "cell_type": "code",
   "execution_count": 957,
   "id": "d042fe2f",
   "metadata": {},
   "outputs": [
    {
     "name": "stdout",
     "output_type": "stream",
     "text": [
      "13\n",
      "107\n",
      "747\n",
      "7\n",
      "28\n",
      "3667\n",
      "4561\n",
      "29\n",
      "113\n",
      "19\n",
      "11483\n",
      "199\n",
      "169\n"
     ]
    }
   ],
   "source": [
    "desc=[]\n",
    "test['description'].apply(lambda x: desc.append(x))\n",
    "print(str(desc).count('осле ДТП'))\n",
    "print(str(desc).count('риложить руки'))\n",
    "print(str(desc).count('ребует ремонта'))\n",
    "print(str(desc).count('од ремонт'))\n",
    "print(str(desc).count('не гнилое'))\n",
    "print(str(desc).count('хорошем состояни'))\n",
    "print(str(desc).count('отличном состояни'))\n",
    "print(str(desc).count('приличном состояни'))\n",
    "print(str(desc).count('нормальном состояни'))\n",
    "print(str(desc).count('удовлетворительном состояни'))\n",
    "print(str(desc).count('илер'))\n",
    "print(str(desc).count('иллер'))\n",
    "print(str(desc).count('восстановлен'))"
   ]
  },
  {
   "cell_type": "code",
   "execution_count": 958,
   "id": "ff9afc4f",
   "metadata": {},
   "outputs": [
    {
     "data": {
      "text/plain": [
       "30878    1\n",
       "35652    1\n",
       "9038     0\n",
       "3695     0\n",
       "34241    0\n",
       "Name: description, dtype: int64"
      ]
     },
     "execution_count": 958,
     "metadata": {},
     "output_type": "execute_result"
    }
   ],
   "source": [
    "#numeric value for train\n",
    "def descriptor (text):\n",
    "    if text.__contains__('отличном состояни' or 'хорошем состояни'):\n",
    "        return 1\n",
    "    elif text.__contains__('приличном состояни' or 'нормальном состояни' or 'удовлетворительном состояни'):\n",
    "        return 0\n",
    "    elif text.__contains__('риложить руки' or 'ребует ремонта' or 'гнил'):\n",
    "        return -1\n",
    "    elif text.__contains__('осле ДТП' or 'осле дтп' or 'восстановлен'):\n",
    "        return -2\n",
    "    else:\n",
    "        return 0\n",
    "train['description'] = train['description'].apply(descriptor)\n",
    "#Для совсем новых авто ставим наивысшую оценку - 2.\n",
    "train.loc[train.mileage==0]['description']=2\n",
    "train['description'].sample(5)\n"
   ]
  },
  {
   "cell_type": "code",
   "execution_count": 959,
   "id": "0242035d",
   "metadata": {},
   "outputs": [
    {
     "data": {
      "text/plain": [
       "9090     0\n",
       "22475    0\n",
       "9070     0\n",
       "13688    0\n",
       "13064    0\n",
       "Name: description, dtype: int64"
      ]
     },
     "execution_count": 959,
     "metadata": {},
     "output_type": "execute_result"
    }
   ],
   "source": [
    "#numeric value for test\n",
    "def descriptor (text):\n",
    "    if text.__contains__('отличном состояни' or 'хорошем состояни'):\n",
    "        return 1\n",
    "    elif text.__contains__('приличном состояни' or 'нормальном состояни' or 'удовлетворительном состояни'):\n",
    "        return 0\n",
    "    elif text.__contains__('риложить руки' or 'ребует ремонта' or 'гнил'):\n",
    "        return -1\n",
    "    elif text.__contains__('осле ДТП' or 'осле дтп' or 'восстановлен'):\n",
    "        return -2\n",
    "    else:\n",
    "        return 0\n",
    "test['description'] = test['description'].apply(descriptor)\n",
    "#Для совсем новых авто ставим наивысшую оценку - 2.\n",
    "test.loc[test.mileage==0]['description']=2\n",
    "test['description'].sample(5)"
   ]
  },
  {
   "cell_type": "code",
   "execution_count": 960,
   "id": "b2bd18d8",
   "metadata": {},
   "outputs": [],
   "source": [
    "#rename 'Состояние' on 1.\n",
    "#test = test.drop(['description'], axis = 1)\n",
    "test['Состояние']=1\n",
    "train['Состояние']=1"
   ]
  },
  {
   "cell_type": "code",
   "execution_count": 961,
   "id": "a0f74bd5",
   "metadata": {},
   "outputs": [],
   "source": [
    "# in column 'Владение' not enogh inf, so nee to drop it\n",
    "train = train.drop(['Владение'], axis = 1)"
   ]
  },
  {
   "cell_type": "code",
   "execution_count": 962,
   "id": "35560edb",
   "metadata": {},
   "outputs": [
    {
     "name": "stdout",
     "output_type": "stream",
     "text": [
      "<class 'pandas.core.frame.DataFrame'>\n",
      "Int64Index: 45339 entries, 0 to 61259\n",
      "Data columns (total 21 columns):\n",
      " #   Column               Non-Null Count  Dtype  \n",
      "---  ------               --------------  -----  \n",
      " 0   test                 45339 non-null  int64  \n",
      " 1   style                45339 non-null  object \n",
      " 2   bodyType             45339 non-null  object \n",
      " 3   color                45339 non-null  object \n",
      " 4   fuelType             45339 non-null  object \n",
      " 5   modelDate            45339 non-null  float64\n",
      " 6   numberOfDoors        45339 non-null  int64  \n",
      " 7   productionDate       45339 non-null  float64\n",
      " 8   vehicleTransmission  45339 non-null  object \n",
      " 9   engineDisplacement   45339 non-null  float64\n",
      " 10  enginePower          45339 non-null  int64  \n",
      " 11  mileage              45339 non-null  int64  \n",
      " 12  Привод               45339 non-null  object \n",
      " 13  Руль                 45339 non-null  object \n",
      " 14  Состояние            45339 non-null  int64  \n",
      " 15  Владельцы            45339 non-null  object \n",
      " 16  ПТС                  45339 non-null  object \n",
      " 17  description          45339 non-null  int64  \n",
      " 18  price                45339 non-null  int64  \n",
      " 19  Таможня              45339 non-null  object \n",
      " 20  brand                45339 non-null  object \n",
      "dtypes: float64(3), int64(7), object(11)\n",
      "memory usage: 7.6+ MB\n"
     ]
    }
   ],
   "source": [
    "train.info()"
   ]
  },
  {
   "cell_type": "code",
   "execution_count": 963,
   "id": "600c8fd4",
   "metadata": {},
   "outputs": [
    {
     "data": {
      "text/html": [
       "<div>\n",
       "<style scoped>\n",
       "    .dataframe tbody tr th:only-of-type {\n",
       "        vertical-align: middle;\n",
       "    }\n",
       "\n",
       "    .dataframe tbody tr th {\n",
       "        vertical-align: top;\n",
       "    }\n",
       "\n",
       "    .dataframe thead th {\n",
       "        text-align: right;\n",
       "    }\n",
       "</style>\n",
       "<table border=\"1\" class=\"dataframe\">\n",
       "  <thead>\n",
       "    <tr style=\"text-align: right;\">\n",
       "      <th></th>\n",
       "      <th>test</th>\n",
       "      <th>style</th>\n",
       "      <th>bodyType</th>\n",
       "      <th>color</th>\n",
       "      <th>fuelType</th>\n",
       "      <th>modelDate</th>\n",
       "      <th>numberOfDoors</th>\n",
       "      <th>productionDate</th>\n",
       "      <th>vehicleTransmission</th>\n",
       "      <th>engineDisplacement</th>\n",
       "      <th>...</th>\n",
       "      <th>mileage</th>\n",
       "      <th>Привод</th>\n",
       "      <th>Руль</th>\n",
       "      <th>Состояние</th>\n",
       "      <th>Владельцы</th>\n",
       "      <th>ПТС</th>\n",
       "      <th>description</th>\n",
       "      <th>price</th>\n",
       "      <th>Таможня</th>\n",
       "      <th>brand</th>\n",
       "    </tr>\n",
       "  </thead>\n",
       "  <tbody>\n",
       "    <tr>\n",
       "      <th>49039</th>\n",
       "      <td>0</td>\n",
       "      <td>1.5 MT (98 л.с.)</td>\n",
       "      <td>седан</td>\n",
       "      <td>серебристый</td>\n",
       "      <td>Бензин</td>\n",
       "      <td>2002.0</td>\n",
       "      <td>5</td>\n",
       "      <td>2006.0</td>\n",
       "      <td>механическая</td>\n",
       "      <td>1.5</td>\n",
       "      <td>...</td>\n",
       "      <td>161067</td>\n",
       "      <td>передний</td>\n",
       "      <td>Левый</td>\n",
       "      <td>1</td>\n",
       "      <td>2</td>\n",
       "      <td>Оригинал</td>\n",
       "      <td>0</td>\n",
       "      <td>299000</td>\n",
       "      <td>Растаможен</td>\n",
       "      <td>nissan</td>\n",
       "    </tr>\n",
       "    <tr>\n",
       "      <th>12513</th>\n",
       "      <td>0</td>\n",
       "      <td>1.6 MT (87 л.с.)</td>\n",
       "      <td>седан</td>\n",
       "      <td>серый</td>\n",
       "      <td>Бензин</td>\n",
       "      <td>2004.0</td>\n",
       "      <td>5</td>\n",
       "      <td>2009.0</td>\n",
       "      <td>механическая</td>\n",
       "      <td>1.6</td>\n",
       "      <td>...</td>\n",
       "      <td>253000</td>\n",
       "      <td>передний</td>\n",
       "      <td>Левый</td>\n",
       "      <td>1</td>\n",
       "      <td>4</td>\n",
       "      <td>Оригинал</td>\n",
       "      <td>0</td>\n",
       "      <td>225000</td>\n",
       "      <td>Растаможен</td>\n",
       "      <td>renault</td>\n",
       "    </tr>\n",
       "    <tr>\n",
       "      <th>47544</th>\n",
       "      <td>0</td>\n",
       "      <td>2.5 CVT (182 л.с.)</td>\n",
       "      <td>седан</td>\n",
       "      <td>чёрный</td>\n",
       "      <td>Бензин</td>\n",
       "      <td>2008.0</td>\n",
       "      <td>5</td>\n",
       "      <td>2010.0</td>\n",
       "      <td>вариатор</td>\n",
       "      <td>2.5</td>\n",
       "      <td>...</td>\n",
       "      <td>199000</td>\n",
       "      <td>передний</td>\n",
       "      <td>Левый</td>\n",
       "      <td>1</td>\n",
       "      <td>4</td>\n",
       "      <td>Оригинал</td>\n",
       "      <td>0</td>\n",
       "      <td>605000</td>\n",
       "      <td>Растаможен</td>\n",
       "      <td>nissan</td>\n",
       "    </tr>\n",
       "  </tbody>\n",
       "</table>\n",
       "<p>3 rows × 21 columns</p>\n",
       "</div>"
      ],
      "text/plain": [
       "       test                style bodyType        color fuelType  modelDate  \\\n",
       "49039     0    1.5 MT (98 л.с.)     седан  серебристый   Бензин     2002.0   \n",
       "12513     0    1.6 MT (87 л.с.)     седан        серый   Бензин     2004.0   \n",
       "47544     0  2.5 CVT (182 л.с.)     седан       чёрный   Бензин     2008.0   \n",
       "\n",
       "       numberOfDoors  productionDate vehicleTransmission  engineDisplacement  \\\n",
       "49039              5          2006.0        механическая                 1.5   \n",
       "12513              5          2009.0        механическая                 1.6   \n",
       "47544              5          2010.0            вариатор                 2.5   \n",
       "\n",
       "       ...  mileage    Привод   Руль Состояние  Владельцы       ПТС  \\\n",
       "49039  ...   161067  передний  Левый         1          2  Оригинал   \n",
       "12513  ...   253000  передний  Левый         1          4  Оригинал   \n",
       "47544  ...   199000  передний  Левый         1          4  Оригинал   \n",
       "\n",
       "      description   price     Таможня    brand  \n",
       "49039           0  299000  Растаможен   nissan  \n",
       "12513           0  225000  Растаможен  renault  \n",
       "47544           0  605000  Растаможен   nissan  \n",
       "\n",
       "[3 rows x 21 columns]"
      ]
     },
     "execution_count": 963,
     "metadata": {},
     "output_type": "execute_result"
    }
   ],
   "source": [
    "#the empty values will fill by 0.\n",
    "train['Владельцы']=train['Владельцы'].fillna(0)\n",
    "train.sample(3)"
   ]
  },
  {
   "cell_type": "code",
   "execution_count": 964,
   "id": "3ec618fc",
   "metadata": {},
   "outputs": [
    {
     "data": {
      "text/plain": [
       "22224    3\n",
       "9980     1\n",
       "34056    1\n",
       "5640     2\n",
       "15764    2\n",
       "Name: Владельцы, dtype: int64"
      ]
     },
     "execution_count": 964,
     "metadata": {},
     "output_type": "execute_result"
    }
   ],
   "source": [
    "test['Владельцы'].value_counts() \n",
    "test['Владельцы']=test['Владельцы'].apply(lambda x: int(x[0]))\n",
    "test['Владельцы'].sample(5)"
   ]
  },
  {
   "cell_type": "code",
   "execution_count": 965,
   "id": "91db2065",
   "metadata": {},
   "outputs": [],
   "source": [
    "#a lot of words, will do shrortest till the first word\n",
    "train['bodyType']=train['bodyType'].apply(lambda x: x.split(' ')[0])"
   ]
  },
  {
   "cell_type": "code",
   "execution_count": 966,
   "id": "a1ce53ab",
   "metadata": {},
   "outputs": [],
   "source": [
    "#same action with test\n",
    "test['bodyType']=test['bodyType'].apply(lambda x: x.split(' ')[0])"
   ]
  },
  {
   "cell_type": "code",
   "execution_count": 967,
   "id": "48b70a00",
   "metadata": {},
   "outputs": [
    {
     "data": {
      "text/plain": [
       "31933    272\n",
       "12520    141\n",
       "17030    156\n",
       "2168     140\n",
       "7057     210\n",
       "Name: enginePower, dtype: int64"
      ]
     },
     "execution_count": 967,
     "metadata": {},
     "output_type": "execute_result"
    }
   ],
   "source": [
    "# Let's replace the engine power with numerical values\n",
    "test.enginePower=test.enginePower.apply(lambda x: int(x[:-4]))\n",
    "test.enginePower.sample(5)"
   ]
  },
  {
   "cell_type": "code",
   "execution_count": 968,
   "id": "cb460610",
   "metadata": {},
   "outputs": [
    {
     "name": "stderr",
     "output_type": "stream",
     "text": [
      "C:\\Users\\1\\anaconda3\\lib\\site-packages\\pandas\\core\\indexing.py:1637: SettingWithCopyWarning: \n",
      "A value is trying to be set on a copy of a slice from a DataFrame\n",
      "\n",
      "See the caveats in the documentation: https://pandas.pydata.org/pandas-docs/stable/user_guide/indexing.html#returning-a-view-versus-a-copy\n",
      "  self._setitem_single_block(indexer, value, name)\n"
     ]
    }
   ],
   "source": [
    "#First, let's bring the result in the test column to the same form as train\n",
    "test.engineDisplacement=test.engineDisplacement.apply(lambda x: x[:-4])\n",
    "# change the empty line on the most popular\n",
    "test.engineDisplacement.loc[test.engineDisplacement=='   '] = '2.0'"
   ]
  },
  {
   "cell_type": "code",
   "execution_count": 969,
   "id": "0441468c",
   "metadata": {},
   "outputs": [
    {
     "data": {
      "text/plain": [
       "32700    AUTOMATIC\n",
       "33823    AUTOMATIC\n",
       "6980     AUTOMATIC\n",
       "Name: vehicleTransmission, dtype: object"
      ]
     },
     "execution_count": 969,
     "metadata": {},
     "output_type": "execute_result"
    }
   ],
   "source": [
    "transmission_dict={'автоматическая':'AUTOMATIC', 'механическая':'MECHANICAL', 'роботизированная':'ROBOT','вариатор':'VARIATOR'}\n",
    "test.vehicleTransmission = test.vehicleTransmission.apply(lambda x: transmission_dict[x])\n",
    "test.vehicleTransmission.sample(3)"
   ]
  },
  {
   "cell_type": "code",
   "execution_count": 970,
   "id": "61ec35a0",
   "metadata": {},
   "outputs": [],
   "source": [
    "#in variables that take one of two values, you must substitute \"1\" and \"0\"\n",
    "train.Руль=train.Руль.apply(lambda x: 1 if x=='LEFT' else 0)\n",
    "test.Руль=test.Руль.apply(lambda x: 1 if x=='Левый' else 0)"
   ]
  },
  {
   "cell_type": "code",
   "execution_count": 971,
   "id": "274081d2",
   "metadata": {},
   "outputs": [],
   "source": [
    "train.ПТС=train.ПТС.apply(lambda x: 1 if x=='ORIGINAL' else 0)\n",
    "test.ПТС=test.ПТС.apply(lambda x: 1 if x=='Оригинал' else 0)"
   ]
  },
  {
   "cell_type": "code",
   "execution_count": 972,
   "id": "be8a8c12",
   "metadata": {},
   "outputs": [],
   "source": [
    "#All cars are cleared. This column can be deleted in both datasets.\n",
    "train = train.drop(['Таможня'], axis = 1)\n",
    "test = test.drop(['Таможня'], axis = 1)"
   ]
  },
  {
   "cell_type": "code",
   "execution_count": 973,
   "id": "8a0752f5",
   "metadata": {},
   "outputs": [
    {
     "name": "stdout",
     "output_type": "stream",
     "text": [
      "{'name', 'vehicleConfiguration'}\n",
      "{'test', 'price', 'style'}\n"
     ]
    }
   ],
   "source": [
    "#Check which columns do not match\n",
    "print(set(test.columns)-set(train.columns))\n",
    "print(set(train.columns)-set(test.columns))"
   ]
  },
  {
   "cell_type": "code",
   "execution_count": 974,
   "id": "5e17ec46",
   "metadata": {},
   "outputs": [
    {
     "name": "stdout",
     "output_type": "stream",
     "text": [
      "Index(['bodyType', 'brand', 'color', 'fuelType', 'modelDate', 'numberOfDoors',\n",
      "       'productionDate', 'vehicleTransmission', 'engineDisplacement',\n",
      "       'enginePower', 'Состояние', 'mileage', 'Привод', 'Руль', 'Владельцы',\n",
      "       'ПТС'],\n",
      "      dtype='object')\n"
     ]
    }
   ],
   "source": [
    "test = test.reindex(columns=['bodyType', 'brand', 'color', 'fuelType', 'modelDate', 'numberOfDoors',\n",
    "       'productionDate', 'vehicleTransmission', 'engineDisplacement',\n",
    "       'enginePower', 'Состояние', 'mileage', 'Привод', 'Руль', 'Владельцы',\n",
    "       'ПТС'])\n",
    "print(test.columns)"
   ]
  },
  {
   "cell_type": "markdown",
   "id": "06bd0052",
   "metadata": {},
   "source": [
    "# Preprocessing"
   ]
  },
  {
   "cell_type": "code",
   "execution_count": 975,
   "id": "02b27fff",
   "metadata": {},
   "outputs": [],
   "source": [
    "# the baseline\n",
    "columns = ['bodyType', 'brand', 'color', 'fuelType', 'modelDate', 'numberOfDoors',\n",
    "       'productionDate', 'vehicleTransmission', 'engineDisplacement',\n",
    "       'enginePower', 'Состояние', 'mileage', 'Привод', 'Руль', 'Владельцы',\n",
    "       'ПТС']\n",
    "df_train = train[columns]\n",
    "df_test = test[columns]"
   ]
  },
  {
   "cell_type": "code",
   "execution_count": 976,
   "id": "5c959bd7",
   "metadata": {},
   "outputs": [],
   "source": [
    "y = train['price']"
   ]
  },
  {
   "cell_type": "code",
   "execution_count": 977,
   "id": "dc27e5e0",
   "metadata": {},
   "outputs": [
    {
     "name": "stdout",
     "output_type": "stream",
     "text": [
      "<class 'pandas.core.frame.DataFrame'>\n",
      "RangeIndex: 80025 entries, 0 to 80024\n",
      "Data columns (total 17 columns):\n",
      " #   Column               Non-Null Count  Dtype  \n",
      "---  ------               --------------  -----  \n",
      " 0   bodyType             80025 non-null  object \n",
      " 1   brand                80025 non-null  object \n",
      " 2   color                80025 non-null  object \n",
      " 3   fuelType             80025 non-null  object \n",
      " 4   modelDate            80025 non-null  float64\n",
      " 5   numberOfDoors        80025 non-null  int64  \n",
      " 6   productionDate       80025 non-null  float64\n",
      " 7   vehicleTransmission  80025 non-null  object \n",
      " 8   engineDisplacement   80025 non-null  object \n",
      " 9   enginePower          80025 non-null  int64  \n",
      " 10  Состояние            80025 non-null  int64  \n",
      " 11  mileage              80025 non-null  int64  \n",
      " 12  Привод               80025 non-null  object \n",
      " 13  Руль                 80025 non-null  int64  \n",
      " 14  Владельцы            80025 non-null  object \n",
      " 15  ПТС                  80025 non-null  int64  \n",
      " 16  sample               80025 non-null  int64  \n",
      "dtypes: float64(2), int64(7), object(8)\n",
      "memory usage: 10.4+ MB\n"
     ]
    },
    {
     "name": "stderr",
     "output_type": "stream",
     "text": [
      "<ipython-input-977-2c9696833df5>:2: SettingWithCopyWarning: \n",
      "A value is trying to be set on a copy of a slice from a DataFrame.\n",
      "Try using .loc[row_indexer,col_indexer] = value instead\n",
      "\n",
      "See the caveats in the documentation: https://pandas.pydata.org/pandas-docs/stable/user_guide/indexing.html#returning-a-view-versus-a-copy\n",
      "  df_train['sample'] = 1\n"
     ]
    }
   ],
   "source": [
    "# combining two datasets\n",
    "df_train['sample'] = 1 \n",
    "df_test['sample'] = 0\n",
    "data = df_test.append(df_train, sort=False).reset_index(drop=True) # combining\n",
    "data.info()"
   ]
  },
  {
   "cell_type": "code",
   "execution_count": 978,
   "id": "a771d4f0",
   "metadata": {},
   "outputs": [
    {
     "data": {
      "text/plain": [
       "Index([     'modelDate',  'numberOfDoors', 'productionDate',    'enginePower',\n",
       "            'Состояние',        'mileage',           'Руль',      'Владельцы',\n",
       "                  'ПТС',         'sample',\n",
       "       ...\n",
       "                  '5.7',            '5.8',            '5.9',            '6.0',\n",
       "                  '6.2',            '6.3',            '6.6',         'задний',\n",
       "             'передний',         'полный'],\n",
       "      dtype='object', length=186)"
      ]
     },
     "execution_count": 978,
     "metadata": {},
     "output_type": "execute_result"
    }
   ],
   "source": [
    "#Adding dummie variables to the combined data\n",
    "dummie_columns=['bodyType', 'brand', 'color', 'fuelType', 'vehicleTransmission', 'engineDisplacement', 'Привод']\n",
    "for item in dummie_columns: \n",
    "    dummie_df=pd.get_dummies(data[item].apply(pd.Series).stack()).sum(level=0) # Создаём сет dummie-переменных\n",
    "    data=pd.concat([data,dummie_df], axis=1)\n",
    "data=data.drop(dummie_columns, axis = 1)\n",
    "data.columns"
   ]
  },
  {
   "cell_type": "code",
   "execution_count": 980,
   "id": "02435ba3",
   "metadata": {},
   "outputs": [
    {
     "data": {
      "text/html": [
       "<div>\n",
       "<style scoped>\n",
       "    .dataframe tbody tr th:only-of-type {\n",
       "        vertical-align: middle;\n",
       "    }\n",
       "\n",
       "    .dataframe tbody tr th {\n",
       "        vertical-align: top;\n",
       "    }\n",
       "\n",
       "    .dataframe thead th {\n",
       "        text-align: right;\n",
       "    }\n",
       "</style>\n",
       "<table border=\"1\" class=\"dataframe\">\n",
       "  <thead>\n",
       "    <tr style=\"text-align: right;\">\n",
       "      <th></th>\n",
       "      <th>modelDate</th>\n",
       "      <th>numberOfDoors</th>\n",
       "      <th>productionDate</th>\n",
       "      <th>enginePower</th>\n",
       "      <th>Состояние</th>\n",
       "      <th>mileage</th>\n",
       "      <th>Руль</th>\n",
       "      <th>Владельцы</th>\n",
       "      <th>ПТС</th>\n",
       "      <th>sample</th>\n",
       "      <th>...</th>\n",
       "      <th>5.7</th>\n",
       "      <th>5.8</th>\n",
       "      <th>5.9</th>\n",
       "      <th>6.0</th>\n",
       "      <th>6.2</th>\n",
       "      <th>6.3</th>\n",
       "      <th>6.6</th>\n",
       "      <th>задний</th>\n",
       "      <th>передний</th>\n",
       "      <th>полный</th>\n",
       "    </tr>\n",
       "  </thead>\n",
       "  <tbody>\n",
       "    <tr>\n",
       "      <th>56215</th>\n",
       "      <td>0.887931</td>\n",
       "      <td>0.727273</td>\n",
       "      <td>0.922414</td>\n",
       "      <td>0.188834</td>\n",
       "      <td>1</td>\n",
       "      <td>0.169999</td>\n",
       "      <td>0</td>\n",
       "      <td>4</td>\n",
       "      <td>0</td>\n",
       "      <td>1</td>\n",
       "      <td>...</td>\n",
       "      <td>0</td>\n",
       "      <td>0</td>\n",
       "      <td>0</td>\n",
       "      <td>0</td>\n",
       "      <td>0</td>\n",
       "      <td>0</td>\n",
       "      <td>0</td>\n",
       "      <td>1</td>\n",
       "      <td>0</td>\n",
       "      <td>0</td>\n",
       "    </tr>\n",
       "    <tr>\n",
       "      <th>2787</th>\n",
       "      <td>0.931034</td>\n",
       "      <td>0.454545</td>\n",
       "      <td>0.948276</td>\n",
       "      <td>0.320197</td>\n",
       "      <td>1</td>\n",
       "      <td>0.036556</td>\n",
       "      <td>1</td>\n",
       "      <td>2</td>\n",
       "      <td>1</td>\n",
       "      <td>0</td>\n",
       "      <td>...</td>\n",
       "      <td>0</td>\n",
       "      <td>0</td>\n",
       "      <td>0</td>\n",
       "      <td>0</td>\n",
       "      <td>0</td>\n",
       "      <td>0</td>\n",
       "      <td>0</td>\n",
       "      <td>0</td>\n",
       "      <td>0</td>\n",
       "      <td>1</td>\n",
       "    </tr>\n",
       "    <tr>\n",
       "      <th>30059</th>\n",
       "      <td>0.741379</td>\n",
       "      <td>0.363636</td>\n",
       "      <td>0.750000</td>\n",
       "      <td>0.169130</td>\n",
       "      <td>1</td>\n",
       "      <td>0.349999</td>\n",
       "      <td>1</td>\n",
       "      <td>3</td>\n",
       "      <td>0</td>\n",
       "      <td>0</td>\n",
       "      <td>...</td>\n",
       "      <td>0</td>\n",
       "      <td>0</td>\n",
       "      <td>0</td>\n",
       "      <td>0</td>\n",
       "      <td>0</td>\n",
       "      <td>0</td>\n",
       "      <td>0</td>\n",
       "      <td>0</td>\n",
       "      <td>1</td>\n",
       "      <td>0</td>\n",
       "    </tr>\n",
       "    <tr>\n",
       "      <th>54119</th>\n",
       "      <td>0.974138</td>\n",
       "      <td>0.454545</td>\n",
       "      <td>0.974138</td>\n",
       "      <td>0.152709</td>\n",
       "      <td>1</td>\n",
       "      <td>0.067999</td>\n",
       "      <td>0</td>\n",
       "      <td>1</td>\n",
       "      <td>0</td>\n",
       "      <td>1</td>\n",
       "      <td>...</td>\n",
       "      <td>0</td>\n",
       "      <td>0</td>\n",
       "      <td>0</td>\n",
       "      <td>0</td>\n",
       "      <td>0</td>\n",
       "      <td>0</td>\n",
       "      <td>0</td>\n",
       "      <td>0</td>\n",
       "      <td>1</td>\n",
       "      <td>0</td>\n",
       "    </tr>\n",
       "    <tr>\n",
       "      <th>29234</th>\n",
       "      <td>0.939655</td>\n",
       "      <td>0.363636</td>\n",
       "      <td>0.965517</td>\n",
       "      <td>0.262726</td>\n",
       "      <td>1</td>\n",
       "      <td>0.182395</td>\n",
       "      <td>1</td>\n",
       "      <td>3</td>\n",
       "      <td>1</td>\n",
       "      <td>0</td>\n",
       "      <td>...</td>\n",
       "      <td>0</td>\n",
       "      <td>0</td>\n",
       "      <td>0</td>\n",
       "      <td>0</td>\n",
       "      <td>0</td>\n",
       "      <td>0</td>\n",
       "      <td>0</td>\n",
       "      <td>1</td>\n",
       "      <td>0</td>\n",
       "      <td>0</td>\n",
       "    </tr>\n",
       "    <tr>\n",
       "      <th>30098</th>\n",
       "      <td>0.896552</td>\n",
       "      <td>0.454545</td>\n",
       "      <td>0.922414</td>\n",
       "      <td>0.155993</td>\n",
       "      <td>1</td>\n",
       "      <td>0.164999</td>\n",
       "      <td>1</td>\n",
       "      <td>3</td>\n",
       "      <td>1</td>\n",
       "      <td>0</td>\n",
       "      <td>...</td>\n",
       "      <td>0</td>\n",
       "      <td>0</td>\n",
       "      <td>0</td>\n",
       "      <td>0</td>\n",
       "      <td>0</td>\n",
       "      <td>0</td>\n",
       "      <td>0</td>\n",
       "      <td>0</td>\n",
       "      <td>1</td>\n",
       "      <td>0</td>\n",
       "    </tr>\n",
       "    <tr>\n",
       "      <th>62209</th>\n",
       "      <td>0.974138</td>\n",
       "      <td>0.454545</td>\n",
       "      <td>0.991379</td>\n",
       "      <td>0.152709</td>\n",
       "      <td>1</td>\n",
       "      <td>0.014999</td>\n",
       "      <td>0</td>\n",
       "      <td>1</td>\n",
       "      <td>0</td>\n",
       "      <td>1</td>\n",
       "      <td>...</td>\n",
       "      <td>0</td>\n",
       "      <td>0</td>\n",
       "      <td>0</td>\n",
       "      <td>0</td>\n",
       "      <td>0</td>\n",
       "      <td>0</td>\n",
       "      <td>0</td>\n",
       "      <td>0</td>\n",
       "      <td>1</td>\n",
       "      <td>0</td>\n",
       "    </tr>\n",
       "    <tr>\n",
       "      <th>29495</th>\n",
       "      <td>0.706897</td>\n",
       "      <td>0.363636</td>\n",
       "      <td>0.767241</td>\n",
       "      <td>0.308703</td>\n",
       "      <td>1</td>\n",
       "      <td>0.089999</td>\n",
       "      <td>1</td>\n",
       "      <td>3</td>\n",
       "      <td>1</td>\n",
       "      <td>0</td>\n",
       "      <td>...</td>\n",
       "      <td>0</td>\n",
       "      <td>0</td>\n",
       "      <td>0</td>\n",
       "      <td>0</td>\n",
       "      <td>0</td>\n",
       "      <td>0</td>\n",
       "      <td>0</td>\n",
       "      <td>1</td>\n",
       "      <td>0</td>\n",
       "      <td>0</td>\n",
       "    </tr>\n",
       "    <tr>\n",
       "      <th>33702</th>\n",
       "      <td>0.922414</td>\n",
       "      <td>0.454545</td>\n",
       "      <td>0.939655</td>\n",
       "      <td>0.174056</td>\n",
       "      <td>1</td>\n",
       "      <td>0.099989</td>\n",
       "      <td>1</td>\n",
       "      <td>1</td>\n",
       "      <td>1</td>\n",
       "      <td>0</td>\n",
       "      <td>...</td>\n",
       "      <td>0</td>\n",
       "      <td>0</td>\n",
       "      <td>0</td>\n",
       "      <td>0</td>\n",
       "      <td>0</td>\n",
       "      <td>0</td>\n",
       "      <td>0</td>\n",
       "      <td>1</td>\n",
       "      <td>0</td>\n",
       "      <td>0</td>\n",
       "    </tr>\n",
       "    <tr>\n",
       "      <th>54819</th>\n",
       "      <td>0.818966</td>\n",
       "      <td>0.454545</td>\n",
       "      <td>0.913793</td>\n",
       "      <td>0.118227</td>\n",
       "      <td>1</td>\n",
       "      <td>0.090367</td>\n",
       "      <td>0</td>\n",
       "      <td>1</td>\n",
       "      <td>0</td>\n",
       "      <td>1</td>\n",
       "      <td>...</td>\n",
       "      <td>0</td>\n",
       "      <td>0</td>\n",
       "      <td>0</td>\n",
       "      <td>0</td>\n",
       "      <td>0</td>\n",
       "      <td>0</td>\n",
       "      <td>0</td>\n",
       "      <td>0</td>\n",
       "      <td>1</td>\n",
       "      <td>0</td>\n",
       "    </tr>\n",
       "  </tbody>\n",
       "</table>\n",
       "<p>10 rows × 186 columns</p>\n",
       "</div>"
      ],
      "text/plain": [
       "       modelDate  numberOfDoors  productionDate  enginePower  Состояние  \\\n",
       "56215   0.887931       0.727273        0.922414     0.188834          1   \n",
       "2787    0.931034       0.454545        0.948276     0.320197          1   \n",
       "30059   0.741379       0.363636        0.750000     0.169130          1   \n",
       "54119   0.974138       0.454545        0.974138     0.152709          1   \n",
       "29234   0.939655       0.363636        0.965517     0.262726          1   \n",
       "30098   0.896552       0.454545        0.922414     0.155993          1   \n",
       "62209   0.974138       0.454545        0.991379     0.152709          1   \n",
       "29495   0.706897       0.363636        0.767241     0.308703          1   \n",
       "33702   0.922414       0.454545        0.939655     0.174056          1   \n",
       "54819   0.818966       0.454545        0.913793     0.118227          1   \n",
       "\n",
       "        mileage  Руль Владельцы  ПТС  sample  ...  5.7  5.8  5.9  6.0  6.2  \\\n",
       "56215  0.169999     0         4    0       1  ...    0    0    0    0    0   \n",
       "2787   0.036556     1         2    1       0  ...    0    0    0    0    0   \n",
       "30059  0.349999     1         3    0       0  ...    0    0    0    0    0   \n",
       "54119  0.067999     0         1    0       1  ...    0    0    0    0    0   \n",
       "29234  0.182395     1         3    1       0  ...    0    0    0    0    0   \n",
       "30098  0.164999     1         3    1       0  ...    0    0    0    0    0   \n",
       "62209  0.014999     0         1    0       1  ...    0    0    0    0    0   \n",
       "29495  0.089999     1         3    1       0  ...    0    0    0    0    0   \n",
       "33702  0.099989     1         1    1       0  ...    0    0    0    0    0   \n",
       "54819  0.090367     0         1    0       1  ...    0    0    0    0    0   \n",
       "\n",
       "       6.3  6.6  задний  передний  полный  \n",
       "56215    0    0       1         0       0  \n",
       "2787     0    0       0         0       1  \n",
       "30059    0    0       0         1       0  \n",
       "54119    0    0       0         1       0  \n",
       "29234    0    0       1         0       0  \n",
       "30098    0    0       0         1       0  \n",
       "62209    0    0       0         1       0  \n",
       "29495    0    0       1         0       0  \n",
       "33702    0    0       1         0       0  \n",
       "54819    0    0       0         1       0  \n",
       "\n",
       "[10 rows x 186 columns]"
      ]
     },
     "execution_count": 980,
     "metadata": {},
     "output_type": "execute_result"
    }
   ],
   "source": [
    "# From date_production & date_model will do conclusion.\n",
    "data.productionDate = (2021-data.productionDate)\n",
    "data.modelDate = (2021-data.modelDate)\n",
    "\n",
    "from sklearn.preprocessing import MinMaxScaler\n",
    "scaler = MinMaxScaler()\n",
    "colunns_to_scale=['modelDate', 'numberOfDoors', 'productionDate', 'enginePower','mileage']\n",
    "scaler.fit(data[colunns_to_scale])\n",
    "data[colunns_to_scale]=scaler.transform(data[colunns_to_scale])\n",
    "\n",
    "data.sample(10)"
   ]
  },
  {
   "cell_type": "code",
   "execution_count": 986,
   "id": "8a11ec32",
   "metadata": {},
   "outputs": [],
   "source": [
    "#Separate Datasets\n",
    "RANDOM_SEED=42\n",
    "VAL_SIZE=0.2\n",
    "X = data.query('sample == 1').drop(['sample'], axis=1)\n",
    "X_sub = data.query('sample == 0').drop(['sample'], axis=1)"
   ]
  },
  {
   "cell_type": "markdown",
   "id": "124c4dfb",
   "metadata": {},
   "source": [
    "# Split"
   ]
  },
  {
   "cell_type": "code",
   "execution_count": 987,
   "id": "ce886e4f",
   "metadata": {},
   "outputs": [],
   "source": [
    "X_train, X_test, y_train, y_test = train_test_split(X, y, test_size=VAL_SIZE, shuffle=True, random_state=RANDOM_SEED)"
   ]
  },
  {
   "cell_type": "markdown",
   "id": "3fc23e76",
   "metadata": {},
   "source": [
    "# Simple model "
   ]
  },
  {
   "cell_type": "code",
   "execution_count": 988,
   "id": "7316becb",
   "metadata": {},
   "outputs": [],
   "source": [
    "# Creating a Function for MAPE\n",
    "import numpy as np\n",
    "\n",
    "def mape(y_test, pred):\n",
    "    y_test, pred = np.array(y_test), np.array(pred)\n",
    "    mape = np.mean(np.abs((y_test - pred) / y_test))\n",
    "    return mape"
   ]
  },
  {
   "cell_type": "code",
   "execution_count": 989,
   "id": "46d063b5",
   "metadata": {},
   "outputs": [
    {
     "name": "stdout",
     "output_type": "stream",
     "text": [
      "Accuracy of simple model according MAPE: 14.66%\n"
     ]
    }
   ],
   "source": [
    "from sklearn.ensemble import GradientBoostingRegressor\n",
    "reg = GradientBoostingRegressor(random_state=0)\n",
    "reg.fit(X_train, y_train)\n",
    "predict = reg.predict(X_test)\n",
    " \n",
    "\n",
    "#The Accuracy\n",
    "print(f\"Accuracy of simple model according MAPE: {(mape(y_test, predict))*100:0.2f}%\")"
   ]
  },
  {
   "cell_type": "markdown",
   "id": "e9b10866",
   "metadata": {},
   "source": [
    "Good accuracy, let's get see which parameters influence?"
   ]
  },
  {
   "cell_type": "code",
   "execution_count": 990,
   "id": "6c402c3c",
   "metadata": {},
   "outputs": [
    {
     "data": {
      "text/plain": [
       "<AxesSubplot:>"
      ]
     },
     "execution_count": 990,
     "metadata": {},
     "output_type": "execute_result"
    },
    {
     "data": {
      "image/png": "[encoded data removed]",
      "text/plain": [
       "<Figure size 720x720 with 1 Axes>"
      ]
     },
     "metadata": {
      "needs_background": "light"
     },
     "output_type": "display_data"
    }
   ],
   "source": [
    "import matplotlib.pyplot as plt\n",
    "plt.rcParams['figure.figsize'] = (10,10)\n",
    "feat_importances = pd.Series(reg.feature_importances_, index=X.columns)\n",
    "feat_importances.nlargest(15).plot(kind='barh')"
   ]
  },
  {
   "cell_type": "code",
   "execution_count": 991,
   "id": "1943ee49",
   "metadata": {},
   "outputs": [
    {
     "name": "stdout",
     "output_type": "stream",
     "text": [
      "Accuracy of model according MAPE: 13.51%\n"
     ]
    }
   ],
   "source": [
    "#the logarithm of the target, the exposure of the predict.\n",
    "X_train, X_test, y_train, y_test = train_test_split(X, y, test_size=VAL_SIZE, shuffle=True, random_state=RANDOM_SEED)\n",
    "y_train = np.log(y_train)\n",
    "reg = GradientBoostingRegressor(random_state=0)\n",
    "reg.fit(X_train, y_train)\n",
    "predict = np.exp(reg.predict(X_test))\n",
    "print(f\"Accuracy of model according MAPE: {(mape(y_test, predict))*100:0.2f}%\")"
   ]
  },
  {
   "cell_type": "code",
   "execution_count": 992,
   "id": "fe71478c",
   "metadata": {},
   "outputs": [
    {
     "data": {
      "text/plain": [
       "<AxesSubplot:>"
      ]
     },
     "execution_count": 992,
     "metadata": {},
     "output_type": "execute_result"
    },
    {
     "data": {
      "image/png": "[encoded data removed]",
      "text/plain": [
       "<Figure size 720x720 with 1 Axes>"
      ]
     },
     "metadata": {
      "needs_background": "light"
     },
     "output_type": "display_data"
    }
   ],
   "source": [
    "plt.rcParams['figure.figsize'] = (10,10)\n",
    "feat_importances = pd.Series(reg.feature_importances_, index=X.columns)\n",
    "feat_importances.nlargest(15).plot(kind='barh')"
   ]
  },
  {
   "cell_type": "markdown",
   "id": "b2a935ad",
   "metadata": {},
   "source": [
    "Characteristics that have the most impact: enginePower, modelDate, productionDAte"
   ]
  },
  {
   "cell_type": "code",
   "execution_count": 993,
   "id": "3ef0f5b1",
   "metadata": {},
   "outputs": [],
   "source": [
    "#there are names of columns by float type - let's change them to str  "
   ]
  },
  {
   "cell_type": "code",
   "execution_count": 994,
   "id": "4cdba6a3",
   "metadata": {},
   "outputs": [],
   "source": [
    "X_sub[''] = X_sub[''].astype(str)"
   ]
  },
  {
   "cell_type": "code",
   "execution_count": 995,
   "id": "e5bf4542",
   "metadata": {},
   "outputs": [],
   "source": [
    "#& rename them in both datasets 'X' & 'X_sub'\n",
    "X.rename({'':'aasssddddd', '0.7':'col', '1.0': 'b', '1.1': 'c', '1.2':'d', '1.3':'e', '1.4': 'f', '1.5': 'g', '1.6': 'h', '1.7': 'i', '1.8': 'k', '1.9': 'l', '2.0': 'm', '2.1': 'n', '2.2': 'o', '2.3': 'aa', '2.4': 'bb', '2.5': 'cc', '2.6': 'dd', '2.7': 'ee', '2.8': 'de', '2.9': 'fe', '3.0': 'se', '3.1': ' sde', '3.2': 'sda', '3.3': 'xsa', '3.4':'dfg', '3.5': 'gfc', '3.6': 're', '3.7': 'tr', '3.8': 'ty', '3.9': 'uy', '4.0': 'iu', '4.1': 'wee', '4.2': 'qw', '4.3': 'lk', '4.4': 'vbb', '4.5': 'mn', '4.6': 'xcd', '4.7': 'vcs', '4.8': 'hgg', '4.9': 'wert', '5.0': 'poi', '5.2': 'trew', '5.3': 'lkoe', '5.4': 'zvb', '5.5': 'sazza', '5.6': 'lwer', '5.7': 'bnmc', '5.8': 'gvcs', '5.9': 'powq', '6.0': 'nchd', '6.2': 'aloi', '6.3': 'cmak', '6.6': 'kfjf'  }, axis=1, inplace=True)"
   ]
  },
  {
   "cell_type": "code",
   "execution_count": 996,
   "id": "9a4b5b3e",
   "metadata": {},
   "outputs": [
    {
     "name": "stdout",
     "output_type": "stream",
     "text": [
      "['modelDate', 'numberOfDoors', 'productionDate', 'enginePower', 'Состояние', 'mileage', 'Руль', 'Владельцы', 'ПТС', 'внедорожник', 'кабриолет', 'компактвэн', 'купе', 'купе-хардтоп', 'лимузин', 'лифтбек', 'микровэн', 'минивэн', 'пикап', 'родстер', 'седан', 'седан-хардтоп', 'тарга', 'универсал', 'фастбек', 'фургон', 'хэтчбек', 'AUDI', 'BMW', 'HONDA', 'INFINITI', 'LEXUS', 'MERCEDES', 'MITSUBISHI', 'NISSAN', 'SKODA', 'TOYOTA', 'VOLKSWAGEN', 'VOLVO', 'chevrolet', 'chrysler', 'citroen', 'ford', 'honda', 'hyundai', 'kia', 'land_rover', 'lexus', 'mazda', 'mercedes', 'mitsubishi', 'nissan', 'peugeot', 'renault', 'skoda', 'subaru', 'volkswagen', 'бежевый', 'белый', 'голубой', 'жёлтый', 'зелёный', 'золотистый', 'коричневый', 'красный', 'оранжевый', 'пурпурный', 'розовый', 'серебристый', 'серый', 'синий', 'фиолетовый', 'чёрный', 'Бензин', 'Бензин, газобаллонное оборудование', 'Газ', 'Газ, газобаллонное оборудование', 'Гибрид', 'Дизель', 'Дизель, газобаллонное оборудование', 'бензин', 'газ', 'гибрид', 'дизель', 'электро', 'AUTOMATIC', 'MECHANICAL', 'ROBOT', 'VARIATOR', 'автоматическая', 'вариатор', 'механическая', 'роботизированная', 0.7, 0.8, 1.0, 1.1, 1.2, 1.3, 1.4, 1.5, 1.6, 1.7, 1.8, 1.9, 2.0, 2.1, 2.2, 2.3, 2.4, 2.5, 2.6, 2.7, 2.8, 2.9, 3.0, 3.2, 3.3, 3.5, 3.6, 3.7, 3.8, 4.0, 4.2, 4.3, 4.6, 4.7, '', '0.7', '1.0', '1.1', '1.2', '1.3', '1.4', '1.5', '1.6', '1.7', '1.8', '1.9', '2.0', '2.1', '2.2', '2.3', '2.4', '2.5', '2.6', '2.7', '2.8', '2.9', '3.0', '3.1', '3.2', '3.3', '3.4', '3.5', '3.6', '3.7', '3.8', '3.9', '4.0', '4.1', '4.2', '4.3', '4.4', '4.5', '4.6', '4.7', '4.8', '4.9', '5.0', '5.2', '5.3', '5.4', '5.5', '5.6', '5.7', '5.8', '5.9', '6.0', '6.2', '6.3', '6.6', 'задний', 'передний', 'полный']\n"
     ]
    }
   ],
   "source": [
    "print(X_train.columns.tolist())"
   ]
  },
  {
   "cell_type": "code",
   "execution_count": 997,
   "id": "3d587db8",
   "metadata": {},
   "outputs": [],
   "source": [
    "X_sub.rename({'':'aasssddddd', '0.7':'col', '1.0': 'b', '1.1': 'c', '1.2':'d', '1.3':'e', '1.4': 'f', '1.5': 'g', '1.6': 'h', '1.7': 'i', '1.8': 'k', '1.9': 'l', '2.0': 'm', '2.1': 'n', '2.2': 'o', '2.3': 'aa', '2.4': 'bb', '2.5': 'cc', '2.6': 'dd', '2.7': 'ee', '2.8': 'de', '2.9': 'fe', '3.0': 'se', '3.1': ' sde', '3.2': 'sda', '3.3': 'xsa', '3.4':'dfg', '3.5': 'gfc', '3.6': 're', '3.7': 'tr', '3.8': 'ty', '3.9': 'uy', '4.0': 'iu', '4.1': 'wee', '4.2': 'qw', '4.3': 'lk', '4.4': 'vbb', '4.5': 'mn', '4.6': 'xcd', '4.7': 'vcs', '4.8': 'hgg', '4.9': 'wert', '5.0': 'poi', '5.2': 'trew', '5.3': 'lkoe', '5.4': 'zvb', '5.5': 'sazza', '5.6': 'lwer', '5.7': 'bnmc', '5.8': 'gvcs', '5.9': 'powq', '6.0': 'nchd', '6.2': 'aloi', '6.3': 'cmak', '6.6': 'kfjf'  }, axis=1, inplace=True)"
   ]
  },
  {
   "cell_type": "code",
   "execution_count": 998,
   "id": "8d2e52b0",
   "metadata": {},
   "outputs": [
    {
     "name": "stdout",
     "output_type": "stream",
     "text": [
      "['modelDate', 'numberOfDoors', 'productionDate', 'enginePower', 'Состояние', 'mileage', 'Руль', 'Владельцы', 'ПТС', 'внедорожник', 'кабриолет', 'компактвэн', 'купе', 'купе-хардтоп', 'лимузин', 'лифтбек', 'микровэн', 'минивэн', 'пикап', 'родстер', 'седан', 'седан-хардтоп', 'тарга', 'универсал', 'фастбек', 'фургон', 'хэтчбек', 'AUDI', 'BMW', 'HONDA', 'INFINITI', 'LEXUS', 'MERCEDES', 'MITSUBISHI', 'NISSAN', 'SKODA', 'TOYOTA', 'VOLKSWAGEN', 'VOLVO', 'chevrolet', 'chrysler', 'citroen', 'ford', 'honda', 'hyundai', 'kia', 'land_rover', 'lexus', 'mazda', 'mercedes', 'mitsubishi', 'nissan', 'peugeot', 'renault', 'skoda', 'subaru', 'volkswagen', 'бежевый', 'белый', 'голубой', 'жёлтый', 'зелёный', 'золотистый', 'коричневый', 'красный', 'оранжевый', 'пурпурный', 'розовый', 'серебристый', 'серый', 'синий', 'фиолетовый', 'чёрный', 'Бензин', 'Бензин, газобаллонное оборудование', 'Газ', 'Газ, газобаллонное оборудование', 'Гибрид', 'Дизель', 'Дизель, газобаллонное оборудование', 'бензин', 'газ', 'гибрид', 'дизель', 'электро', 'AUTOMATIC', 'MECHANICAL', 'ROBOT', 'VARIATOR', 'автоматическая', 'вариатор', 'механическая', 'роботизированная', 0.7, 0.8, 1.0, 1.1, 1.2, 1.3, 1.4, 1.5, 1.6, 1.7, 1.8, 1.9, 2.0, 2.1, 2.2, 2.3, 2.4, 2.5, 2.6, 2.7, 2.8, 2.9, 3.0, 3.2, 3.3, 3.5, 3.6, 3.7, 3.8, 4.0, 4.2, 4.3, 4.6, 4.7, 'aasssddddd', 'col', 'b', 'c', 'd', 'e', 'f', 'g', 'h', 'i', 'k', 'l', 'm', 'n', 'o', 'aa', 'bb', 'cc', 'dd', 'ee', 'de', 'fe', 'se', ' sde', 'sda', 'xsa', 'dfg', 'gfc', 're', 'tr', 'ty', 'uy', 'iu', 'wee', 'qw', 'lk', 'vbb', 'mn', 'xcd', 'vcs', 'hgg', 'wert', 'poi', 'trew', 'lkoe', 'zvb', 'sazza', 'lwer', 'bnmc', 'gvcs', 'powq', 'nchd', 'aloi', 'cmak', 'kfjf', 'задний', 'передний', 'полный']\n"
     ]
    }
   ],
   "source": [
    "print(X_sub.columns.tolist())"
   ]
  },
  {
   "cell_type": "markdown",
   "id": "2d6786f5",
   "metadata": {},
   "source": [
    "# CatBoost, The model No 2"
   ]
  },
  {
   "cell_type": "code",
   "execution_count": 1001,
   "id": "221153ca",
   "metadata": {},
   "outputs": [],
   "source": [
    "X_train, X_test, y_train, y_test = train_test_split(X, y, test_size=VAL_SIZE, shuffle=True, random_state=RANDOM_SEED)\n",
    "model = CatBoostRegressor(iterations = 10000,\n",
    "                          random_seed = RANDOM_SEED,\n",
    "                          eval_metric='MAPE',\n",
    "                          custom_metric=['R2', 'MAE'],\n",
    "                          silent=True,\n",
    "                         )\n",
    "model.fit(X_train, y_train,\n",
    "         #cat_features=cat_features_ids,\n",
    "         eval_set=(X_test, y_test),\n",
    "         verbose_eval=0,\n",
    "         use_best_model=True,\n",
    "         #plot=True\n",
    "         )\n",
    "\n",
    "model.save_model('catboost_single_model_baseline.model')"
   ]
  },
  {
   "cell_type": "code",
   "execution_count": 1005,
   "id": "a4a53fd3",
   "metadata": {},
   "outputs": [],
   "source": [
    "#cat_features=list(range(len(X.columns)))"
   ]
  },
  {
   "cell_type": "code",
   "execution_count": 1007,
   "id": "7e7e550a",
   "metadata": {},
   "outputs": [],
   "source": [
    "predict_test = (model.predict(X_test))\n",
    "predict_submission = (model.predict(X_sub))"
   ]
  },
  {
   "cell_type": "code",
   "execution_count": 1009,
   "id": "f7ed3bb6",
   "metadata": {},
   "outputs": [
    {
     "name": "stdout",
     "output_type": "stream",
     "text": [
      "Accuracy of model according MAPE: 10.68%\n"
     ]
    }
   ],
   "source": [
    "# accuracy\n",
    "predict = (model.predict(X_test))\n",
    "print(f\"Accuracy of model according MAPE: {(mape(y_test, predict))*100:0.2f}%\")"
   ]
  },
  {
   "cell_type": "markdown",
   "id": "ce2b2fa7",
   "metadata": {},
   "source": [
    "# Sub"
   ]
  },
  {
   "cell_type": "code",
   "execution_count": 1010,
   "id": "bedab61d",
   "metadata": {},
   "outputs": [
    {
     "data": {
      "text/html": [
       "<div>\n",
       "<style scoped>\n",
       "    .dataframe tbody tr th:only-of-type {\n",
       "        vertical-align: middle;\n",
       "    }\n",
       "\n",
       "    .dataframe tbody tr th {\n",
       "        vertical-align: top;\n",
       "    }\n",
       "\n",
       "    .dataframe thead th {\n",
       "        text-align: right;\n",
       "    }\n",
       "</style>\n",
       "<table border=\"1\" class=\"dataframe\">\n",
       "  <thead>\n",
       "    <tr style=\"text-align: right;\">\n",
       "      <th></th>\n",
       "      <th>sell_id</th>\n",
       "      <th>price</th>\n",
       "    </tr>\n",
       "  </thead>\n",
       "  <tbody>\n",
       "    <tr>\n",
       "      <th>0</th>\n",
       "      <td>1100575026</td>\n",
       "      <td>6.145712e+05</td>\n",
       "    </tr>\n",
       "    <tr>\n",
       "      <th>1</th>\n",
       "      <td>1100549428</td>\n",
       "      <td>8.405400e+05</td>\n",
       "    </tr>\n",
       "    <tr>\n",
       "      <th>2</th>\n",
       "      <td>1100658222</td>\n",
       "      <td>8.761184e+05</td>\n",
       "    </tr>\n",
       "    <tr>\n",
       "      <th>3</th>\n",
       "      <td>1100937408</td>\n",
       "      <td>6.883969e+05</td>\n",
       "    </tr>\n",
       "    <tr>\n",
       "      <th>4</th>\n",
       "      <td>1101037972</td>\n",
       "      <td>7.306258e+05</td>\n",
       "    </tr>\n",
       "    <tr>\n",
       "      <th>5</th>\n",
       "      <td>1100912634</td>\n",
       "      <td>6.954399e+05</td>\n",
       "    </tr>\n",
       "    <tr>\n",
       "      <th>6</th>\n",
       "      <td>1101228730</td>\n",
       "      <td>7.922671e+05</td>\n",
       "    </tr>\n",
       "    <tr>\n",
       "      <th>7</th>\n",
       "      <td>1100165896</td>\n",
       "      <td>4.243497e+05</td>\n",
       "    </tr>\n",
       "    <tr>\n",
       "      <th>8</th>\n",
       "      <td>1100768262</td>\n",
       "      <td>1.758084e+06</td>\n",
       "    </tr>\n",
       "    <tr>\n",
       "      <th>9</th>\n",
       "      <td>1101218501</td>\n",
       "      <td>9.469163e+05</td>\n",
       "    </tr>\n",
       "  </tbody>\n",
       "</table>\n",
       "</div>"
      ],
      "text/plain": [
       "      sell_id         price\n",
       "0  1100575026  6.145712e+05\n",
       "1  1100549428  8.405400e+05\n",
       "2  1100658222  8.761184e+05\n",
       "3  1100937408  6.883969e+05\n",
       "4  1101037972  7.306258e+05\n",
       "5  1100912634  6.954399e+05\n",
       "6  1101228730  7.922671e+05\n",
       "7  1100165896  4.243497e+05\n",
       "8  1100768262  1.758084e+06\n",
       "9  1101218501  9.469163e+05"
      ]
     },
     "execution_count": 1010,
     "metadata": {},
     "output_type": "execute_result"
    }
   ],
   "source": [
    "VERSION    = 16\n",
    "sample_submission['price'] = predict_submission\n",
    "sample_submission.to_csv(f'submission_2_v{VERSION}.csv', index=False)\n",
    "sample_submission.head(10)"
   ]
  },
  {
   "cell_type": "markdown",
   "id": "6c87b947",
   "metadata": {},
   "source": [
    "# KULULU"
   ]
  }
 ],
 "metadata": {
  "kernelspec": {
   "display_name": "Python 3",
   "language": "python",
   "name": "python3"
  },
  "language_info": {
   "codemirror_mode": {
    "name": "ipython",
    "version": 3
   },
   "file_extension": ".py",
   "mimetype": "text/x-python",
   "name": "python",
   "nbconvert_exporter": "python",
   "pygments_lexer": "ipython3",
   "version": "3.8.8"
  }
 },
 "nbformat": 4,
 "nbformat_minor": 5
}
